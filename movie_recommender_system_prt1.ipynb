{
  "cells": [
    {
      "cell_type": "code",
      "execution_count": null,
      "metadata": {
        "id": "UTZJISiH6nnq"
      },
      "outputs": [],
      "source": [
        "import pandas as pd\n",
        "import numpy as np\n",
        "import os\n",
        "import nltk"
      ]
    },
    {
      "cell_type": "code",
      "execution_count": null,
      "metadata": {
        "id": "TsNsI0h0I_E1"
      },
      "outputs": [],
      "source": [
        "os.environ['KAGGLE_CONFIG_DIR']= '/content'"
      ]
    },
    {
      "cell_type": "code",
      "execution_count": null,
      "metadata": {
        "id": "fa1NhvcEKNz_"
      },
      "outputs": [],
      "source": [
        "import the dataset using kaggle api\n",
        "!kaggle datasets download -d alanvourch/tmdb-movies-daily-updates"
      ]
    },
    {
      "cell_type": "code",
      "execution_count": null,
      "metadata": {
        "id": "jfYsWkUOKzz8"
      },
      "outputs": [],
      "source": [
        "!unzip /content/tmdb-movies-daily-updates.zip"
      ]
    },
    {
      "cell_type": "code",
      "execution_count": null,
      "metadata": {
        "id": "_1AsoxBcK7EN"
      },
      "outputs": [],
      "source": [
        "df=pd.read_csv(\"/content/drive/MyDrive/data set/TMDB_all_movies.csv\") #main data frame"
      ]
    },
    {
      "cell_type": "code",
      "execution_count": null,
      "metadata": {
        "colab": {
          "base_uri": "https://localhost:8080/"
        },
        "id": "vjJEUyBaLRQN",
        "outputId": "8b83e1a7-d544-4a88-e017-41f3c43df8a8"
      },
      "outputs": [
        {
          "data": {
            "text/plain": [
              "Index(['id', 'title', 'vote_average', 'vote_count', 'status', 'release_date',\n",
              "       'revenue', 'runtime', 'budget', 'imdb_id', 'original_language',\n",
              "       'original_title', 'overview', 'popularity', 'tagline', 'genres',\n",
              "       'production_companies', 'production_countries', 'spoken_languages',\n",
              "       'cast', 'director', 'director_of_photography', 'writers', 'producers',\n",
              "       'music_composer', 'imdb_rating', 'imdb_votes'],\n",
              "      dtype='object')"
            ]
          },
          "execution_count": 152,
          "metadata": {},
          "output_type": "execute_result"
        }
      ],
      "source": [
        "df.columns"
      ]
    },
    {
      "cell_type": "code",
      "execution_count": null,
      "metadata": {
        "id": "KuMLYNlBd1tE"
      },
      "outputs": [],
      "source": [
        "df['release_date'] = pd.to_datetime(df['release_date'])"
      ]
    },
    {
      "cell_type": "code",
      "execution_count": null,
      "metadata": {
        "colab": {
          "base_uri": "https://localhost:8080/"
        },
        "id": "4yV3_RrFQaJp",
        "outputId": "1a7534f3-eff4-4236-b460-902df65e3cd9"
      },
      "outputs": [
        {
          "data": {
            "text/plain": [
              "Timestamp('1800-01-01 00:00:00')"
            ]
          },
          "execution_count": 154,
          "metadata": {},
          "output_type": "execute_result"
        }
      ],
      "source": [
        "df['release_date'].min()"
      ]
    },
    {
      "cell_type": "code",
      "execution_count": null,
      "metadata": {
        "id": "0UP2CiD2eEYM"
      },
      "outputs": [],
      "source": [
        "df=df[df['release_date'] > '1999-12-31']"
      ]
    },
    {
      "cell_type": "code",
      "execution_count": null,
      "metadata": {
        "id": "MTwJ1tKvyhlV"
      },
      "outputs": [],
      "source": [
        "s=df[['original_language','id']].groupby('original_language').count().sort_values(by='id',ascending =False).iloc[:15]"
      ]
    },
    {
      "cell_type": "code",
      "execution_count": null,
      "metadata": {
        "colab": {
          "base_uri": "https://localhost:8080/"
        },
        "id": "ghZIynl-SGeJ",
        "outputId": "cf31b8fb-9eb1-4b93-a98b-2bece11d2298"
      },
      "outputs": [
        {
          "data": {
            "text/plain": [
              "Index(['en', 'fr', 'es', 'ja', 'de', 'pt', 'zh', 'ru', 'it', 'ko', 'nl', 'sv',\n",
              "       'hi', 'ar', 'tl'],\n",
              "      dtype='object', name='original_language')"
            ]
          },
          "execution_count": 157,
          "metadata": {},
          "output_type": "execute_result"
        }
      ],
      "source": [
        "s.index"
      ]
    },
    {
      "cell_type": "code",
      "execution_count": null,
      "metadata": {
        "id": "7q-AfnaOU0A6"
      },
      "outputs": [],
      "source": [
        "k=['en', 'fr', 'es', 'de', 'ja', 'pt', 'zh', 'ru', 'it','or','ko', 'ar', 'cs',\n",
        "       'nl', 'sv', 'hi']"
      ]
    },
    {
      "cell_type": "code",
      "execution_count": null,
      "metadata": {
        "id": "ZlLpzoZTUboa"
      },
      "outputs": [],
      "source": [
        "df=df[df['original_language'].isin(k)]"
      ]
    },
    {
      "cell_type": "code",
      "execution_count": null,
      "metadata": {
        "colab": {
          "base_uri": "https://localhost:8080/",
          "height": 182
        },
        "id": "qnUfy_Up4qEr",
        "outputId": "bb906742-d9d6-4f08-cc09-f4583dda4a5f"
      },
      "outputs": [
        {
          "data": {
            "application/vnd.google.colaboratory.intrinsic+json": {
              "type": "dataframe",
              "variable_name": "df"
            },
            "text/html": [
              "\n",
              "  <div id=\"df-cdca4aec-7e21-435b-8f8e-45aca9674b22\" class=\"colab-df-container\">\n",
              "    <div>\n",
              "<style scoped>\n",
              "    .dataframe tbody tr th:only-of-type {\n",
              "        vertical-align: middle;\n",
              "    }\n",
              "\n",
              "    .dataframe tbody tr th {\n",
              "        vertical-align: top;\n",
              "    }\n",
              "\n",
              "    .dataframe thead th {\n",
              "        text-align: right;\n",
              "    }\n",
              "</style>\n",
              "<table border=\"1\" class=\"dataframe\">\n",
              "  <thead>\n",
              "    <tr style=\"text-align: right;\">\n",
              "      <th></th>\n",
              "      <th>id</th>\n",
              "      <th>title</th>\n",
              "      <th>vote_average</th>\n",
              "      <th>vote_count</th>\n",
              "      <th>status</th>\n",
              "      <th>release_date</th>\n",
              "      <th>revenue</th>\n",
              "      <th>runtime</th>\n",
              "      <th>budget</th>\n",
              "      <th>imdb_id</th>\n",
              "      <th>...</th>\n",
              "      <th>production_countries</th>\n",
              "      <th>spoken_languages</th>\n",
              "      <th>cast</th>\n",
              "      <th>director</th>\n",
              "      <th>director_of_photography</th>\n",
              "      <th>writers</th>\n",
              "      <th>producers</th>\n",
              "      <th>music_composer</th>\n",
              "      <th>imdb_rating</th>\n",
              "      <th>imdb_votes</th>\n",
              "    </tr>\n",
              "  </thead>\n",
              "  <tbody>\n",
              "    <tr>\n",
              "      <th>4</th>\n",
              "      <td>8</td>\n",
              "      <td>Life in Loops (A Megacities RMX)</td>\n",
              "      <td>7.5</td>\n",
              "      <td>27.0</td>\n",
              "      <td>Released</td>\n",
              "      <td>2006-01-01</td>\n",
              "      <td>0.0</td>\n",
              "      <td>80.0</td>\n",
              "      <td>42000.0</td>\n",
              "      <td>tt0825671</td>\n",
              "      <td>...</td>\n",
              "      <td>Austria</td>\n",
              "      <td>English, हिन्दी, 日本語, Pусский, Español</td>\n",
              "      <td>NaN</td>\n",
              "      <td>Timo Novotny</td>\n",
              "      <td>Wolfgang Thaler</td>\n",
              "      <td>Michael Glawogger, Timo Novotny</td>\n",
              "      <td>Ulrich Gehmacher, Timo Novotny</td>\n",
              "      <td>NaN</td>\n",
              "      <td>8.1</td>\n",
              "      <td>282.0</td>\n",
              "    </tr>\n",
              "  </tbody>\n",
              "</table>\n",
              "<p>1 rows × 27 columns</p>\n",
              "</div>\n",
              "    <div class=\"colab-df-buttons\">\n",
              "\n",
              "  <div class=\"colab-df-container\">\n",
              "    <button class=\"colab-df-convert\" onclick=\"convertToInteractive('df-cdca4aec-7e21-435b-8f8e-45aca9674b22')\"\n",
              "            title=\"Convert this dataframe to an interactive table.\"\n",
              "            style=\"display:none;\">\n",
              "\n",
              "  <svg xmlns=\"http://www.w3.org/2000/svg\" height=\"24px\" viewBox=\"0 -960 960 960\">\n",
              "    <path d=\"M120-120v-720h720v720H120Zm60-500h600v-160H180v160Zm220 220h160v-160H400v160Zm0 220h160v-160H400v160ZM180-400h160v-160H180v160Zm440 0h160v-160H620v160ZM180-180h160v-160H180v160Zm440 0h160v-160H620v160Z\"/>\n",
              "  </svg>\n",
              "    </button>\n",
              "\n",
              "  <style>\n",
              "    .colab-df-container {\n",
              "      display:flex;\n",
              "      gap: 12px;\n",
              "    }\n",
              "\n",
              "    .colab-df-convert {\n",
              "      background-color: #E8F0FE;\n",
              "      border: none;\n",
              "      border-radius: 50%;\n",
              "      cursor: pointer;\n",
              "      display: none;\n",
              "      fill: #1967D2;\n",
              "      height: 32px;\n",
              "      padding: 0 0 0 0;\n",
              "      width: 32px;\n",
              "    }\n",
              "\n",
              "    .colab-df-convert:hover {\n",
              "      background-color: #E2EBFA;\n",
              "      box-shadow: 0px 1px 2px rgba(60, 64, 67, 0.3), 0px 1px 3px 1px rgba(60, 64, 67, 0.15);\n",
              "      fill: #174EA6;\n",
              "    }\n",
              "\n",
              "    .colab-df-buttons div {\n",
              "      margin-bottom: 4px;\n",
              "    }\n",
              "\n",
              "    [theme=dark] .colab-df-convert {\n",
              "      background-color: #3B4455;\n",
              "      fill: #D2E3FC;\n",
              "    }\n",
              "\n",
              "    [theme=dark] .colab-df-convert:hover {\n",
              "      background-color: #434B5C;\n",
              "      box-shadow: 0px 1px 3px 1px rgba(0, 0, 0, 0.15);\n",
              "      filter: drop-shadow(0px 1px 2px rgba(0, 0, 0, 0.3));\n",
              "      fill: #FFFFFF;\n",
              "    }\n",
              "  </style>\n",
              "\n",
              "    <script>\n",
              "      const buttonEl =\n",
              "        document.querySelector('#df-cdca4aec-7e21-435b-8f8e-45aca9674b22 button.colab-df-convert');\n",
              "      buttonEl.style.display =\n",
              "        google.colab.kernel.accessAllowed ? 'block' : 'none';\n",
              "\n",
              "      async function convertToInteractive(key) {\n",
              "        const element = document.querySelector('#df-cdca4aec-7e21-435b-8f8e-45aca9674b22');\n",
              "        const dataTable =\n",
              "          await google.colab.kernel.invokeFunction('convertToInteractive',\n",
              "                                                    [key], {});\n",
              "        if (!dataTable) return;\n",
              "\n",
              "        const docLinkHtml = 'Like what you see? Visit the ' +\n",
              "          '<a target=\"_blank\" href=https://colab.research.google.com/notebooks/data_table.ipynb>data table notebook</a>'\n",
              "          + ' to learn more about interactive tables.';\n",
              "        element.innerHTML = '';\n",
              "        dataTable['output_type'] = 'display_data';\n",
              "        await google.colab.output.renderOutput(dataTable, element);\n",
              "        const docLink = document.createElement('div');\n",
              "        docLink.innerHTML = docLinkHtml;\n",
              "        element.appendChild(docLink);\n",
              "      }\n",
              "    </script>\n",
              "  </div>\n",
              "\n",
              "\n",
              "    </div>\n",
              "  </div>\n"
            ],
            "text/plain": [
              "   id                             title  vote_average  vote_count    status  \\\n",
              "4   8  Life in Loops (A Megacities RMX)           7.5        27.0  Released   \n",
              "\n",
              "  release_date  revenue  runtime   budget    imdb_id  ...  \\\n",
              "4   2006-01-01      0.0     80.0  42000.0  tt0825671  ...   \n",
              "\n",
              "  production_countries                        spoken_languages cast  \\\n",
              "4              Austria  English, हिन्दी, 日本語, Pусский, Español  NaN   \n",
              "\n",
              "       director director_of_photography                          writers  \\\n",
              "4  Timo Novotny         Wolfgang Thaler  Michael Glawogger, Timo Novotny   \n",
              "\n",
              "                        producers music_composer imdb_rating imdb_votes  \n",
              "4  Ulrich Gehmacher, Timo Novotny            NaN         8.1      282.0  \n",
              "\n",
              "[1 rows x 27 columns]"
            ]
          },
          "execution_count": 160,
          "metadata": {},
          "output_type": "execute_result"
        }
      ],
      "source": [
        "df.head(1)"
      ]
    },
    {
      "cell_type": "code",
      "execution_count": null,
      "metadata": {
        "id": "C4HyWHD949S6"
      },
      "outputs": [],
      "source": [
        "#let discuse which columns we want for our model\n",
        "#1. 'id' 2. 'genres' 3. 'taglines 4. 'title' (not original title becuse movie name can vary based uopon region)\n",
        "#5. 'overview' 6.'production_companies' 7.'cast' 8. 'crew'"
      ]
    },
    {
      "cell_type": "code",
      "execution_count": null,
      "metadata": {
        "id": "SrSFA5l9C6mA"
      },
      "outputs": [],
      "source": [
        "movies = df[['id','original_language','genres','title','overview','cast','director']]"
      ]
    },
    {
      "cell_type": "code",
      "execution_count": null,
      "metadata": {
        "id": "kOelhil1DpcY"
      },
      "outputs": [],
      "source": [
        "#we need only three columns for our apps (movied_id,titile,tags )"
      ]
    },
    {
      "cell_type": "code",
      "execution_count": null,
      "metadata": {
        "colab": {
          "base_uri": "https://localhost:8080/",
          "height": 303
        },
        "id": "vIy_o-PyEVXx",
        "outputId": "f822007f-103f-463c-d86a-ef2d1370048e"
      },
      "outputs": [
        {
          "data": {
            "text/html": [
              "<table border=\"1\" class=\"dataframe\">\n",
              "  <thead>\n",
              "    <tr style=\"text-align: right;\">\n",
              "      <th></th>\n",
              "      <th>0</th>\n",
              "    </tr>\n",
              "  </thead>\n",
              "  <tbody>\n",
              "    <tr>\n",
              "      <th>id</th>\n",
              "      <td>0</td>\n",
              "    </tr>\n",
              "    <tr>\n",
              "      <th>original_language</th>\n",
              "      <td>0</td>\n",
              "    </tr>\n",
              "    <tr>\n",
              "      <th>genres</th>\n",
              "      <td>132288</td>\n",
              "    </tr>\n",
              "    <tr>\n",
              "      <th>title</th>\n",
              "      <td>3</td>\n",
              "    </tr>\n",
              "    <tr>\n",
              "      <th>overview</th>\n",
              "      <td>76932</td>\n",
              "    </tr>\n",
              "    <tr>\n",
              "      <th>cast</th>\n",
              "      <td>165512</td>\n",
              "    </tr>\n",
              "    <tr>\n",
              "      <th>director</th>\n",
              "      <td>88604</td>\n",
              "    </tr>\n",
              "  </tbody>\n",
              "</table><br><label><b>dtype:</b> int64</label>"
            ],
            "text/plain": [
              "id                        0\n",
              "original_language         0\n",
              "genres               132288\n",
              "title                     3\n",
              "overview              76932\n",
              "cast                 165512\n",
              "director              88604\n",
              "dtype: int64"
            ]
          },
          "execution_count": 164,
          "metadata": {},
          "output_type": "execute_result"
        }
      ],
      "source": [
        "movies.isnull().sum()"
      ]
    },
    {
      "cell_type": "code",
      "execution_count": null,
      "metadata": {
        "id": "kUwxjThUIx8X"
      },
      "outputs": [],
      "source": [
        "#!kaggle datasets download -d asaniczka/tmdb-movies-dataset-2023-930k-movies"
      ]
    },
    {
      "cell_type": "code",
      "execution_count": null,
      "metadata": {
        "id": "rUHp747_I-63"
      },
      "outputs": [],
      "source": [
        "#!unzip /content/tmdb-movies-dataset-2023-930k-movies.zip"
      ]
    },
    {
      "cell_type": "code",
      "execution_count": null,
      "metadata": {
        "id": "iGVr3ifEJRt3"
      },
      "outputs": [],
      "source": [
        "s=pd.read_csv('/content/drive/MyDrive/data set/TMDB_movie_dataset_v11.csv') #this data set is for supporting th above data (from this data i will take the key word)"
      ]
    },
    {
      "cell_type": "code",
      "execution_count": null,
      "metadata": {
        "colab": {
          "base_uri": "https://localhost:8080/"
        },
        "id": "R5k0iWorJuj_",
        "outputId": "ace266ea-ecc8-44ba-fa3f-02ab9fac65d7"
      },
      "outputs": [
        {
          "data": {
            "text/plain": [
              "Index(['id', 'title', 'vote_average', 'vote_count', 'status', 'release_date',\n",
              "       'revenue', 'runtime', 'adult', 'backdrop_path', 'budget', 'homepage',\n",
              "       'imdb_id', 'original_language', 'original_title', 'overview',\n",
              "       'popularity', 'poster_path', 'tagline', 'genres',\n",
              "       'production_companies', 'production_countries', 'spoken_languages',\n",
              "       'keywords'],\n",
              "      dtype='object')"
            ]
          },
          "execution_count": 168,
          "metadata": {},
          "output_type": "execute_result"
        }
      ],
      "source": [
        "s.columns"
      ]
    },
    {
      "cell_type": "code",
      "execution_count": null,
      "metadata": {
        "id": "nAQPkWOZJz6X"
      },
      "outputs": [],
      "source": [
        "keywords=s[['id','keywords']]"
      ]
    },
    {
      "cell_type": "code",
      "execution_count": null,
      "metadata": {
        "id": "CfzViDapKkeg"
      },
      "outputs": [],
      "source": [
        "movies=pd.merge(movies,keywords,on ='id',how='inner')"
      ]
    },
    {
      "cell_type": "code",
      "execution_count": null,
      "metadata": {
        "colab": {
          "base_uri": "https://localhost:8080/"
        },
        "id": "PgX6WyUaK45X",
        "outputId": "d4d3a626-a78e-4841-a817-504e13941ed3"
      },
      "outputs": [
        {
          "name": "stdout",
          "output_type": "stream",
          "text": [
            "<class 'pandas.core.frame.DataFrame'>\n",
            "RangeIndex: 499352 entries, 0 to 499351\n",
            "Data columns (total 8 columns):\n",
            " #   Column             Non-Null Count   Dtype \n",
            "---  ------             --------------   ----- \n",
            " 0   id                 499352 non-null  int64 \n",
            " 1   original_language  499352 non-null  object\n",
            " 2   genres             367046 non-null  object\n",
            " 3   title              499349 non-null  object\n",
            " 4   overview           422437 non-null  object\n",
            " 5   cast               333833 non-null  object\n",
            " 6   director           410783 non-null  object\n",
            " 7   keywords           142160 non-null  object\n",
            "dtypes: int64(1), object(7)\n",
            "memory usage: 30.5+ MB\n"
          ]
        }
      ],
      "source": [
        "movies.info()"
      ]
    },
    {
      "cell_type": "code",
      "execution_count": null,
      "metadata": {
        "colab": {
          "base_uri": "https://localhost:8080/",
          "height": 334
        },
        "id": "I-0MIKVrLHTQ",
        "outputId": "89de8e16-35cb-4716-c837-c6a02ef0cfd5"
      },
      "outputs": [
        {
          "data": {
            "text/html": [
              "<table border=\"1\" class=\"dataframe\">\n",
              "  <thead>\n",
              "    <tr style=\"text-align: right;\">\n",
              "      <th></th>\n",
              "      <th>0</th>\n",
              "    </tr>\n",
              "  </thead>\n",
              "  <tbody>\n",
              "    <tr>\n",
              "      <th>id</th>\n",
              "      <td>0</td>\n",
              "    </tr>\n",
              "    <tr>\n",
              "      <th>original_language</th>\n",
              "      <td>0</td>\n",
              "    </tr>\n",
              "    <tr>\n",
              "      <th>genres</th>\n",
              "      <td>132306</td>\n",
              "    </tr>\n",
              "    <tr>\n",
              "      <th>title</th>\n",
              "      <td>3</td>\n",
              "    </tr>\n",
              "    <tr>\n",
              "      <th>overview</th>\n",
              "      <td>76915</td>\n",
              "    </tr>\n",
              "    <tr>\n",
              "      <th>cast</th>\n",
              "      <td>165519</td>\n",
              "    </tr>\n",
              "    <tr>\n",
              "      <th>director</th>\n",
              "      <td>88569</td>\n",
              "    </tr>\n",
              "    <tr>\n",
              "      <th>keywords</th>\n",
              "      <td>357192</td>\n",
              "    </tr>\n",
              "  </tbody>\n",
              "</table><br><label><b>dtype:</b> int64</label>"
            ],
            "text/plain": [
              "id                        0\n",
              "original_language         0\n",
              "genres               132306\n",
              "title                     3\n",
              "overview              76915\n",
              "cast                 165519\n",
              "director              88569\n",
              "keywords             357192\n",
              "dtype: int64"
            ]
          },
          "execution_count": 172,
          "metadata": {},
          "output_type": "execute_result"
        }
      ],
      "source": [
        "movies.isnull().sum()"
      ]
    },
    {
      "cell_type": "code",
      "execution_count": null,
      "metadata": {
        "id": "d8MQyrelOo-v"
      },
      "outputs": [],
      "source": [
        "movies.dropna(inplace=True)"
      ]
    },
    {
      "cell_type": "code",
      "execution_count": null,
      "metadata": {
        "colab": {
          "base_uri": "https://localhost:8080/",
          "height": 334
        },
        "id": "TnYIcOMkPUFX",
        "outputId": "9cd51aba-e804-4ecb-99d4-7be34f94736c"
      },
      "outputs": [
        {
          "data": {
            "text/html": [
              "<table border=\"1\" class=\"dataframe\">\n",
              "  <thead>\n",
              "    <tr style=\"text-align: right;\">\n",
              "      <th></th>\n",
              "      <th>0</th>\n",
              "    </tr>\n",
              "  </thead>\n",
              "  <tbody>\n",
              "    <tr>\n",
              "      <th>id</th>\n",
              "      <td>0</td>\n",
              "    </tr>\n",
              "    <tr>\n",
              "      <th>original_language</th>\n",
              "      <td>0</td>\n",
              "    </tr>\n",
              "    <tr>\n",
              "      <th>genres</th>\n",
              "      <td>0</td>\n",
              "    </tr>\n",
              "    <tr>\n",
              "      <th>title</th>\n",
              "      <td>0</td>\n",
              "    </tr>\n",
              "    <tr>\n",
              "      <th>overview</th>\n",
              "      <td>0</td>\n",
              "    </tr>\n",
              "    <tr>\n",
              "      <th>cast</th>\n",
              "      <td>0</td>\n",
              "    </tr>\n",
              "    <tr>\n",
              "      <th>director</th>\n",
              "      <td>0</td>\n",
              "    </tr>\n",
              "    <tr>\n",
              "      <th>keywords</th>\n",
              "      <td>0</td>\n",
              "    </tr>\n",
              "  </tbody>\n",
              "</table><br><label><b>dtype:</b> int64</label>"
            ],
            "text/plain": [
              "id                   0\n",
              "original_language    0\n",
              "genres               0\n",
              "title                0\n",
              "overview             0\n",
              "cast                 0\n",
              "director             0\n",
              "keywords             0\n",
              "dtype: int64"
            ]
          },
          "execution_count": 174,
          "metadata": {},
          "output_type": "execute_result"
        }
      ],
      "source": [
        "movies.isnull().sum()"
      ]
    },
    {
      "cell_type": "code",
      "execution_count": null,
      "metadata": {
        "colab": {
          "base_uri": "https://localhost:8080/",
          "height": 80
        },
        "id": "AIuFRexQyUF9",
        "outputId": "62a78917-1a6d-48ff-c6f7-be303e536546"
      },
      "outputs": [
        {
          "data": {
            "application/vnd.google.colaboratory.intrinsic+json": {
              "summary": "{\n  \"name\": \"movies[movies['title']=='Avatar']\",\n  \"rows\": 1,\n  \"fields\": [\n    {\n      \"column\": \"id\",\n      \"properties\": {\n        \"dtype\": \"number\",\n        \"std\": null,\n        \"min\": 19995,\n        \"max\": 19995,\n        \"num_unique_values\": 1,\n        \"samples\": [\n          19995\n        ],\n        \"semantic_type\": \"\",\n        \"description\": \"\"\n      }\n    },\n    {\n      \"column\": \"original_language\",\n      \"properties\": {\n        \"dtype\": \"string\",\n        \"num_unique_values\": 1,\n        \"samples\": [\n          \"en\"\n        ],\n        \"semantic_type\": \"\",\n        \"description\": \"\"\n      }\n    },\n    {\n      \"column\": \"genres\",\n      \"properties\": {\n        \"dtype\": \"string\",\n        \"num_unique_values\": 1,\n        \"samples\": [\n          \"Action, Adventure, Fantasy, Science Fiction\"\n        ],\n        \"semantic_type\": \"\",\n        \"description\": \"\"\n      }\n    },\n    {\n      \"column\": \"title\",\n      \"properties\": {\n        \"dtype\": \"string\",\n        \"num_unique_values\": 1,\n        \"samples\": [\n          \"Avatar\"\n        ],\n        \"semantic_type\": \"\",\n        \"description\": \"\"\n      }\n    },\n    {\n      \"column\": \"overview\",\n      \"properties\": {\n        \"dtype\": \"string\",\n        \"num_unique_values\": 1,\n        \"samples\": [\n          \"In the 22nd century, a paraplegic Marine is dispatched to the moon Pandora on a unique mission, but becomes torn between following orders and protecting an alien civilization.\"\n        ],\n        \"semantic_type\": \"\",\n        \"description\": \"\"\n      }\n    },\n    {\n      \"column\": \"cast\",\n      \"properties\": {\n        \"dtype\": \"string\",\n        \"num_unique_values\": 1,\n        \"samples\": [\n          \"Laz Alonso, Sean Anthony Moran, Kelly Kilgour, Julene Renee, Scott Lawrence, Peter Mensah, Sara Wilson, Melvin Leno Clark III, April Marie Thomas, Paul Yates, Sean Patrick Murphy, Christopher Nolen, Austin Wilson, Dileep Rao, Wes Studi, Luke Hawker, Jason Whyte, Ilram Choi, Lisa Roumain, Haniyyah Tahirah, Stephen Lang, James Gaylyn, Chris Mala, Sigourney Weaver, Bravita A. Threatt, Jahnel Curfman, Gerry Blair, Debra Wilson, David Van Horn, Frankie Torres, Michael Blain-Rozgay, Joseph Brady Madden, Larry Rew, Lucy Briant, CCH Pounder, Matthew Chamberlain, Giovanni Ribisi, Michelle Rodriguez, Tamica Washington-Miller, Micah Moch, Zoe Salda\\u00f1a, Peter Dillon, James Patrick Pitt, Carvon Futrell, Kelson Henderson, Brandon Jelkes, Kyla Warren, Sam Worthington, Jon Curry, Cullen B. Madden, Woody Schultz, Nathan Meister, Wray Wilson, Christa Oliver, Sonia Yee, Alicia Vela-Bailey, Joel David Moore, Matt Gerald, Julie Lamm, Jacob Tomuri, Jodie Landau, Dina Morrone, Rodney Cook, Kevin Dorman, Taylor Kibby\"\n        ],\n        \"semantic_type\": \"\",\n        \"description\": \"\"\n      }\n    },\n    {\n      \"column\": \"director\",\n      \"properties\": {\n        \"dtype\": \"string\",\n        \"num_unique_values\": 1,\n        \"samples\": [\n          \"James Cameron\"\n        ],\n        \"semantic_type\": \"\",\n        \"description\": \"\"\n      }\n    },\n    {\n      \"column\": \"keywords\",\n      \"properties\": {\n        \"dtype\": \"string\",\n        \"num_unique_values\": 1,\n        \"samples\": [\n          \"future, society, culture clash, space travel, space war, space colony, tribe, romance, alien, futuristic, space, alien planet, marine, soldier, battle, love affair, nature, anti war, power relations, joyful\"\n        ],\n        \"semantic_type\": \"\",\n        \"description\": \"\"\n      }\n    }\n  ]\n}",
              "type": "dataframe"
            },
            "text/html": [
              "\n",
              "  <div id=\"df-88008928-12ab-4391-9880-e425787420d9\" class=\"colab-df-container\">\n",
              "    <div>\n",
              "<style scoped>\n",
              "    .dataframe tbody tr th:only-of-type {\n",
              "        vertical-align: middle;\n",
              "    }\n",
              "\n",
              "    .dataframe tbody tr th {\n",
              "        vertical-align: top;\n",
              "    }\n",
              "\n",
              "    .dataframe thead th {\n",
              "        text-align: right;\n",
              "    }\n",
              "</style>\n",
              "<table border=\"1\" class=\"dataframe\">\n",
              "  <thead>\n",
              "    <tr style=\"text-align: right;\">\n",
              "      <th></th>\n",
              "      <th>id</th>\n",
              "      <th>original_language</th>\n",
              "      <th>genres</th>\n",
              "      <th>title</th>\n",
              "      <th>overview</th>\n",
              "      <th>cast</th>\n",
              "      <th>director</th>\n",
              "      <th>keywords</th>\n",
              "    </tr>\n",
              "  </thead>\n",
              "  <tbody>\n",
              "    <tr>\n",
              "      <th>5795</th>\n",
              "      <td>19995</td>\n",
              "      <td>en</td>\n",
              "      <td>Action, Adventure, Fantasy, Science Fiction</td>\n",
              "      <td>Avatar</td>\n",
              "      <td>In the 22nd century, a paraplegic Marine is di...</td>\n",
              "      <td>Laz Alonso, Sean Anthony Moran, Kelly Kilgour,...</td>\n",
              "      <td>James Cameron</td>\n",
              "      <td>future, society, culture clash, space travel, ...</td>\n",
              "    </tr>\n",
              "  </tbody>\n",
              "</table>\n",
              "</div>\n",
              "    <div class=\"colab-df-buttons\">\n",
              "\n",
              "  <div class=\"colab-df-container\">\n",
              "    <button class=\"colab-df-convert\" onclick=\"convertToInteractive('df-88008928-12ab-4391-9880-e425787420d9')\"\n",
              "            title=\"Convert this dataframe to an interactive table.\"\n",
              "            style=\"display:none;\">\n",
              "\n",
              "  <svg xmlns=\"http://www.w3.org/2000/svg\" height=\"24px\" viewBox=\"0 -960 960 960\">\n",
              "    <path d=\"M120-120v-720h720v720H120Zm60-500h600v-160H180v160Zm220 220h160v-160H400v160Zm0 220h160v-160H400v160ZM180-400h160v-160H180v160Zm440 0h160v-160H620v160ZM180-180h160v-160H180v160Zm440 0h160v-160H620v160Z\"/>\n",
              "  </svg>\n",
              "    </button>\n",
              "\n",
              "  <style>\n",
              "    .colab-df-container {\n",
              "      display:flex;\n",
              "      gap: 12px;\n",
              "    }\n",
              "\n",
              "    .colab-df-convert {\n",
              "      background-color: #E8F0FE;\n",
              "      border: none;\n",
              "      border-radius: 50%;\n",
              "      cursor: pointer;\n",
              "      display: none;\n",
              "      fill: #1967D2;\n",
              "      height: 32px;\n",
              "      padding: 0 0 0 0;\n",
              "      width: 32px;\n",
              "    }\n",
              "\n",
              "    .colab-df-convert:hover {\n",
              "      background-color: #E2EBFA;\n",
              "      box-shadow: 0px 1px 2px rgba(60, 64, 67, 0.3), 0px 1px 3px 1px rgba(60, 64, 67, 0.15);\n",
              "      fill: #174EA6;\n",
              "    }\n",
              "\n",
              "    .colab-df-buttons div {\n",
              "      margin-bottom: 4px;\n",
              "    }\n",
              "\n",
              "    [theme=dark] .colab-df-convert {\n",
              "      background-color: #3B4455;\n",
              "      fill: #D2E3FC;\n",
              "    }\n",
              "\n",
              "    [theme=dark] .colab-df-convert:hover {\n",
              "      background-color: #434B5C;\n",
              "      box-shadow: 0px 1px 3px 1px rgba(0, 0, 0, 0.15);\n",
              "      filter: drop-shadow(0px 1px 2px rgba(0, 0, 0, 0.3));\n",
              "      fill: #FFFFFF;\n",
              "    }\n",
              "  </style>\n",
              "\n",
              "    <script>\n",
              "      const buttonEl =\n",
              "        document.querySelector('#df-88008928-12ab-4391-9880-e425787420d9 button.colab-df-convert');\n",
              "      buttonEl.style.display =\n",
              "        google.colab.kernel.accessAllowed ? 'block' : 'none';\n",
              "\n",
              "      async function convertToInteractive(key) {\n",
              "        const element = document.querySelector('#df-88008928-12ab-4391-9880-e425787420d9');\n",
              "        const dataTable =\n",
              "          await google.colab.kernel.invokeFunction('convertToInteractive',\n",
              "                                                    [key], {});\n",
              "        if (!dataTable) return;\n",
              "\n",
              "        const docLinkHtml = 'Like what you see? Visit the ' +\n",
              "          '<a target=\"_blank\" href=https://colab.research.google.com/notebooks/data_table.ipynb>data table notebook</a>'\n",
              "          + ' to learn more about interactive tables.';\n",
              "        element.innerHTML = '';\n",
              "        dataTable['output_type'] = 'display_data';\n",
              "        await google.colab.output.renderOutput(dataTable, element);\n",
              "        const docLink = document.createElement('div');\n",
              "        docLink.innerHTML = docLinkHtml;\n",
              "        element.appendChild(docLink);\n",
              "      }\n",
              "    </script>\n",
              "  </div>\n",
              "\n",
              "\n",
              "    </div>\n",
              "  </div>\n"
            ],
            "text/plain": [
              "         id original_language                                       genres  \\\n",
              "5795  19995                en  Action, Adventure, Fantasy, Science Fiction   \n",
              "\n",
              "       title                                           overview  \\\n",
              "5795  Avatar  In the 22nd century, a paraplegic Marine is di...   \n",
              "\n",
              "                                                   cast       director  \\\n",
              "5795  Laz Alonso, Sean Anthony Moran, Kelly Kilgour,...  James Cameron   \n",
              "\n",
              "                                               keywords  \n",
              "5795  future, society, culture clash, space travel, ...  "
            ]
          },
          "execution_count": 175,
          "metadata": {},
          "output_type": "execute_result"
        }
      ],
      "source": [
        "movies[movies['title']=='Avatar']"
      ]
    },
    {
      "cell_type": "code",
      "execution_count": null,
      "metadata": {
        "id": "Rp515IbpShHd"
      },
      "outputs": [],
      "source": [
        "movies=movies[~(movies['id'].duplicated())]"
      ]
    },
    {
      "cell_type": "code",
      "execution_count": null,
      "metadata": {
        "colab": {
          "base_uri": "https://localhost:8080/",
          "height": 53
        },
        "id": "nT3fG6LHSrvN",
        "outputId": "da2790f5-8968-49ae-e36c-605a26b7a0d3"
      },
      "outputs": [
        {
          "data": {
            "application/vnd.google.colaboratory.intrinsic+json": {
              "repr_error": "Out of range float values are not JSON compliant: nan",
              "type": "dataframe"
            },
            "text/html": [
              "\n",
              "  <div id=\"df-58518144-e3ee-4798-ac6f-85928cd84abf\" class=\"colab-df-container\">\n",
              "    <div>\n",
              "<style scoped>\n",
              "    .dataframe tbody tr th:only-of-type {\n",
              "        vertical-align: middle;\n",
              "    }\n",
              "\n",
              "    .dataframe tbody tr th {\n",
              "        vertical-align: top;\n",
              "    }\n",
              "\n",
              "    .dataframe thead th {\n",
              "        text-align: right;\n",
              "    }\n",
              "</style>\n",
              "<table border=\"1\" class=\"dataframe\">\n",
              "  <thead>\n",
              "    <tr style=\"text-align: right;\">\n",
              "      <th></th>\n",
              "      <th>id</th>\n",
              "      <th>original_language</th>\n",
              "      <th>genres</th>\n",
              "      <th>title</th>\n",
              "      <th>overview</th>\n",
              "      <th>cast</th>\n",
              "      <th>director</th>\n",
              "      <th>keywords</th>\n",
              "    </tr>\n",
              "  </thead>\n",
              "  <tbody>\n",
              "  </tbody>\n",
              "</table>\n",
              "</div>\n",
              "    <div class=\"colab-df-buttons\">\n",
              "\n",
              "  <div class=\"colab-df-container\">\n",
              "    <button class=\"colab-df-convert\" onclick=\"convertToInteractive('df-58518144-e3ee-4798-ac6f-85928cd84abf')\"\n",
              "            title=\"Convert this dataframe to an interactive table.\"\n",
              "            style=\"display:none;\">\n",
              "\n",
              "  <svg xmlns=\"http://www.w3.org/2000/svg\" height=\"24px\" viewBox=\"0 -960 960 960\">\n",
              "    <path d=\"M120-120v-720h720v720H120Zm60-500h600v-160H180v160Zm220 220h160v-160H400v160Zm0 220h160v-160H400v160ZM180-400h160v-160H180v160Zm440 0h160v-160H620v160ZM180-180h160v-160H180v160Zm440 0h160v-160H620v160Z\"/>\n",
              "  </svg>\n",
              "    </button>\n",
              "\n",
              "  <style>\n",
              "    .colab-df-container {\n",
              "      display:flex;\n",
              "      gap: 12px;\n",
              "    }\n",
              "\n",
              "    .colab-df-convert {\n",
              "      background-color: #E8F0FE;\n",
              "      border: none;\n",
              "      border-radius: 50%;\n",
              "      cursor: pointer;\n",
              "      display: none;\n",
              "      fill: #1967D2;\n",
              "      height: 32px;\n",
              "      padding: 0 0 0 0;\n",
              "      width: 32px;\n",
              "    }\n",
              "\n",
              "    .colab-df-convert:hover {\n",
              "      background-color: #E2EBFA;\n",
              "      box-shadow: 0px 1px 2px rgba(60, 64, 67, 0.3), 0px 1px 3px 1px rgba(60, 64, 67, 0.15);\n",
              "      fill: #174EA6;\n",
              "    }\n",
              "\n",
              "    .colab-df-buttons div {\n",
              "      margin-bottom: 4px;\n",
              "    }\n",
              "\n",
              "    [theme=dark] .colab-df-convert {\n",
              "      background-color: #3B4455;\n",
              "      fill: #D2E3FC;\n",
              "    }\n",
              "\n",
              "    [theme=dark] .colab-df-convert:hover {\n",
              "      background-color: #434B5C;\n",
              "      box-shadow: 0px 1px 3px 1px rgba(0, 0, 0, 0.15);\n",
              "      filter: drop-shadow(0px 1px 2px rgba(0, 0, 0, 0.3));\n",
              "      fill: #FFFFFF;\n",
              "    }\n",
              "  </style>\n",
              "\n",
              "    <script>\n",
              "      const buttonEl =\n",
              "        document.querySelector('#df-58518144-e3ee-4798-ac6f-85928cd84abf button.colab-df-convert');\n",
              "      buttonEl.style.display =\n",
              "        google.colab.kernel.accessAllowed ? 'block' : 'none';\n",
              "\n",
              "      async function convertToInteractive(key) {\n",
              "        const element = document.querySelector('#df-58518144-e3ee-4798-ac6f-85928cd84abf');\n",
              "        const dataTable =\n",
              "          await google.colab.kernel.invokeFunction('convertToInteractive',\n",
              "                                                    [key], {});\n",
              "        if (!dataTable) return;\n",
              "\n",
              "        const docLinkHtml = 'Like what you see? Visit the ' +\n",
              "          '<a target=\"_blank\" href=https://colab.research.google.com/notebooks/data_table.ipynb>data table notebook</a>'\n",
              "          + ' to learn more about interactive tables.';\n",
              "        element.innerHTML = '';\n",
              "        dataTable['output_type'] = 'display_data';\n",
              "        await google.colab.output.renderOutput(dataTable, element);\n",
              "        const docLink = document.createElement('div');\n",
              "        docLink.innerHTML = docLinkHtml;\n",
              "        element.appendChild(docLink);\n",
              "      }\n",
              "    </script>\n",
              "  </div>\n",
              "\n",
              "\n",
              "    </div>\n",
              "  </div>\n"
            ],
            "text/plain": [
              "Empty DataFrame\n",
              "Columns: [id, original_language, genres, title, overview, cast, director, keywords]\n",
              "Index: []"
            ]
          },
          "execution_count": 177,
          "metadata": {},
          "output_type": "execute_result"
        }
      ],
      "source": [
        "movies[movies['id'].duplicated()]"
      ]
    },
    {
      "cell_type": "code",
      "execution_count": null,
      "metadata": {
        "id": "jrqcoPuZU9v9"
      },
      "outputs": [],
      "source": [
        "movies=movies[~(movies['title'].duplicated())]"
      ]
    },
    {
      "cell_type": "code",
      "execution_count": null,
      "metadata": {
        "colab": {
          "base_uri": "https://localhost:8080/",
          "height": 53
        },
        "id": "kqdOKvSHVI-Q",
        "outputId": "42a0a360-8d07-428a-daf2-fce11f0b33e7"
      },
      "outputs": [
        {
          "data": {
            "application/vnd.google.colaboratory.intrinsic+json": {
              "repr_error": "Out of range float values are not JSON compliant: nan",
              "type": "dataframe"
            },
            "text/html": [
              "\n",
              "  <div id=\"df-b960675d-0b2c-4a34-8756-47657b0aa408\" class=\"colab-df-container\">\n",
              "    <div>\n",
              "<style scoped>\n",
              "    .dataframe tbody tr th:only-of-type {\n",
              "        vertical-align: middle;\n",
              "    }\n",
              "\n",
              "    .dataframe tbody tr th {\n",
              "        vertical-align: top;\n",
              "    }\n",
              "\n",
              "    .dataframe thead th {\n",
              "        text-align: right;\n",
              "    }\n",
              "</style>\n",
              "<table border=\"1\" class=\"dataframe\">\n",
              "  <thead>\n",
              "    <tr style=\"text-align: right;\">\n",
              "      <th></th>\n",
              "      <th>id</th>\n",
              "      <th>original_language</th>\n",
              "      <th>genres</th>\n",
              "      <th>title</th>\n",
              "      <th>overview</th>\n",
              "      <th>cast</th>\n",
              "      <th>director</th>\n",
              "      <th>keywords</th>\n",
              "    </tr>\n",
              "  </thead>\n",
              "  <tbody>\n",
              "  </tbody>\n",
              "</table>\n",
              "</div>\n",
              "    <div class=\"colab-df-buttons\">\n",
              "\n",
              "  <div class=\"colab-df-container\">\n",
              "    <button class=\"colab-df-convert\" onclick=\"convertToInteractive('df-b960675d-0b2c-4a34-8756-47657b0aa408')\"\n",
              "            title=\"Convert this dataframe to an interactive table.\"\n",
              "            style=\"display:none;\">\n",
              "\n",
              "  <svg xmlns=\"http://www.w3.org/2000/svg\" height=\"24px\" viewBox=\"0 -960 960 960\">\n",
              "    <path d=\"M120-120v-720h720v720H120Zm60-500h600v-160H180v160Zm220 220h160v-160H400v160Zm0 220h160v-160H400v160ZM180-400h160v-160H180v160Zm440 0h160v-160H620v160ZM180-180h160v-160H180v160Zm440 0h160v-160H620v160Z\"/>\n",
              "  </svg>\n",
              "    </button>\n",
              "\n",
              "  <style>\n",
              "    .colab-df-container {\n",
              "      display:flex;\n",
              "      gap: 12px;\n",
              "    }\n",
              "\n",
              "    .colab-df-convert {\n",
              "      background-color: #E8F0FE;\n",
              "      border: none;\n",
              "      border-radius: 50%;\n",
              "      cursor: pointer;\n",
              "      display: none;\n",
              "      fill: #1967D2;\n",
              "      height: 32px;\n",
              "      padding: 0 0 0 0;\n",
              "      width: 32px;\n",
              "    }\n",
              "\n",
              "    .colab-df-convert:hover {\n",
              "      background-color: #E2EBFA;\n",
              "      box-shadow: 0px 1px 2px rgba(60, 64, 67, 0.3), 0px 1px 3px 1px rgba(60, 64, 67, 0.15);\n",
              "      fill: #174EA6;\n",
              "    }\n",
              "\n",
              "    .colab-df-buttons div {\n",
              "      margin-bottom: 4px;\n",
              "    }\n",
              "\n",
              "    [theme=dark] .colab-df-convert {\n",
              "      background-color: #3B4455;\n",
              "      fill: #D2E3FC;\n",
              "    }\n",
              "\n",
              "    [theme=dark] .colab-df-convert:hover {\n",
              "      background-color: #434B5C;\n",
              "      box-shadow: 0px 1px 3px 1px rgba(0, 0, 0, 0.15);\n",
              "      filter: drop-shadow(0px 1px 2px rgba(0, 0, 0, 0.3));\n",
              "      fill: #FFFFFF;\n",
              "    }\n",
              "  </style>\n",
              "\n",
              "    <script>\n",
              "      const buttonEl =\n",
              "        document.querySelector('#df-b960675d-0b2c-4a34-8756-47657b0aa408 button.colab-df-convert');\n",
              "      buttonEl.style.display =\n",
              "        google.colab.kernel.accessAllowed ? 'block' : 'none';\n",
              "\n",
              "      async function convertToInteractive(key) {\n",
              "        const element = document.querySelector('#df-b960675d-0b2c-4a34-8756-47657b0aa408');\n",
              "        const dataTable =\n",
              "          await google.colab.kernel.invokeFunction('convertToInteractive',\n",
              "                                                    [key], {});\n",
              "        if (!dataTable) return;\n",
              "\n",
              "        const docLinkHtml = 'Like what you see? Visit the ' +\n",
              "          '<a target=\"_blank\" href=https://colab.research.google.com/notebooks/data_table.ipynb>data table notebook</a>'\n",
              "          + ' to learn more about interactive tables.';\n",
              "        element.innerHTML = '';\n",
              "        dataTable['output_type'] = 'display_data';\n",
              "        await google.colab.output.renderOutput(dataTable, element);\n",
              "        const docLink = document.createElement('div');\n",
              "        docLink.innerHTML = docLinkHtml;\n",
              "        element.appendChild(docLink);\n",
              "      }\n",
              "    </script>\n",
              "  </div>\n",
              "\n",
              "\n",
              "    </div>\n",
              "  </div>\n"
            ],
            "text/plain": [
              "Empty DataFrame\n",
              "Columns: [id, original_language, genres, title, overview, cast, director, keywords]\n",
              "Index: []"
            ]
          },
          "execution_count": 179,
          "metadata": {},
          "output_type": "execute_result"
        }
      ],
      "source": [
        "movies[movies['title'].duplicated()]"
      ]
    },
    {
      "cell_type": "code",
      "execution_count": null,
      "metadata": {
        "colab": {
          "base_uri": "https://localhost:8080/"
        },
        "id": "zg91E8RoX_lr",
        "outputId": "342b6abd-ddea-462d-f7bd-1386b8d91985"
      },
      "outputs": [
        {
          "data": {
            "text/plain": [
              "16"
            ]
          },
          "execution_count": 180,
          "metadata": {},
          "output_type": "execute_result"
        }
      ],
      "source": [
        "len(movies['original_language'].value_counts())"
      ]
    },
    {
      "cell_type": "code",
      "execution_count": null,
      "metadata": {
        "colab": {
          "base_uri": "https://localhost:8080/"
        },
        "id": "86LGZVLlYPib",
        "outputId": "881dc864-080d-4757-9220-292096b53a5f"
      },
      "outputs": [
        {
          "data": {
            "text/plain": [
              "(89951, 8)"
            ]
          },
          "execution_count": 181,
          "metadata": {},
          "output_type": "execute_result"
        }
      ],
      "source": [
        "movies.shape"
      ]
    },
    {
      "cell_type": "code",
      "execution_count": null,
      "metadata": {
        "colab": {
          "base_uri": "https://localhost:8080/"
        },
        "id": "YVlNm4bkbbVA",
        "outputId": "fd187aaa-f528-451d-87d9-8fe03e1d517b"
      },
      "outputs": [
        {
          "data": {
            "text/plain": [
              "Index(['id', 'original_language', 'genres', 'title', 'overview', 'cast',\n",
              "       'director', 'keywords'],\n",
              "      dtype='object')"
            ]
          },
          "execution_count": 182,
          "metadata": {},
          "output_type": "execute_result"
        }
      ],
      "source": [
        "movies.columns"
      ]
    },
    {
      "cell_type": "markdown",
      "metadata": {
        "id": "HLg9QpgWUU26"
      },
      "source": [
        "clean data movies (147979 data)"
      ]
    },
    {
      "cell_type": "code",
      "execution_count": null,
      "metadata": {
        "colab": {
          "base_uri": "https://localhost:8080/",
          "height": 206
        },
        "id": "ndPFP4SSUSPE",
        "outputId": "2b154517-6746-444f-f19e-b771a0000411"
      },
      "outputs": [
        {
          "data": {
            "application/vnd.google.colaboratory.intrinsic+json": {
              "summary": "{\n  \"name\": \"movies\",\n  \"rows\": 89951,\n  \"fields\": [\n    {\n      \"column\": \"id\",\n      \"properties\": {\n        \"dtype\": \"number\",\n        \"std\": 379847,\n        \"min\": 12,\n        \"max\": 1322600,\n        \"num_unique_values\": 89951,\n        \"samples\": [\n          652575,\n          458354,\n          346446\n        ],\n        \"semantic_type\": \"\",\n        \"description\": \"\"\n      }\n    },\n    {\n      \"column\": \"original_language\",\n      \"properties\": {\n        \"dtype\": \"category\",\n        \"num_unique_values\": 16,\n        \"samples\": [\n          \"en\",\n          \"es\",\n          \"ja\"\n        ],\n        \"semantic_type\": \"\",\n        \"description\": \"\"\n      }\n    },\n    {\n      \"column\": \"genres\",\n      \"properties\": {\n        \"dtype\": \"category\",\n        \"num_unique_values\": 5890,\n        \"samples\": [\n          \"Comedy, Animation, Adventure, Fantasy\",\n          \"Mystery, Thriller, Crime\",\n          \"Family, Animation, Action, Adventure, Fantasy, Science Fiction\"\n        ],\n        \"semantic_type\": \"\",\n        \"description\": \"\"\n      }\n    },\n    {\n      \"column\": \"title\",\n      \"properties\": {\n        \"dtype\": \"string\",\n        \"num_unique_values\": 89951,\n        \"samples\": [\n          \"Young Sister-in-Law 5\",\n          \"Sleeping Beauties\",\n          \"My Babushka: Searching Ukrainian Identities\"\n        ],\n        \"semantic_type\": \"\",\n        \"description\": \"\"\n      }\n    },\n    {\n      \"column\": \"overview\",\n      \"properties\": {\n        \"dtype\": \"string\",\n        \"num_unique_values\": 89875,\n        \"samples\": [\n          \"Lalo is a sex influencer: he posts photos of his naked body and homemade porn videos for his thousands of social media followers. Lalo directs his own life, but in private, when out of character, he seems to live in constant melancholy.\",\n          \"A look at the rise and fall of the Admiral sports brand\",\n          \"When the pizza isn't delivered on time, this rookie has to take matters into his own hands.  Winner for best editing at Zoomfest 2018 | Official selection for LIFF 2019\"\n        ],\n        \"semantic_type\": \"\",\n        \"description\": \"\"\n      }\n    },\n    {\n      \"column\": \"cast\",\n      \"properties\": {\n        \"dtype\": \"string\",\n        \"num_unique_values\": 87427,\n        \"samples\": [\n          \"Bobby Colomby, Susan Reynolds, Jordan A. Nash, Bryony Meredith, Steven Mackintosh, Charles Abomeli, Kevin Mathurin, Roberto Vivancos, Kia Ismail, Bob Giraldi, Mark Lester, Vincent Paterson, Rob Cohen, Katherine Jackson, Alex Sawyer, Tando Nopakela, Stuart Boother, Jennifer Batten\",\n          \"Madalena Salles, Kamila Pistori, Amandha Monteiro, Jana\\u00edna Salles, Oswaldo Montenegro\",\n          \"Wang Xun, Wilson Lam, Marc Li, Hiroyuki Satou, Koji Yano, Ke Junxiong, Liu Hua, Joe Chen, Ko Chun-Hsiung, You Liping, Alec Su, Hong So-hee\"\n        ],\n        \"semantic_type\": \"\",\n        \"description\": \"\"\n      }\n    },\n    {\n      \"column\": \"director\",\n      \"properties\": {\n        \"dtype\": \"string\",\n        \"num_unique_values\": 56465,\n        \"samples\": [\n          \"John Vatcher\",\n          \"Lee Jin-II\",\n          \"Keith Sicat\"\n        ],\n        \"semantic_type\": \"\",\n        \"description\": \"\"\n      }\n    },\n    {\n      \"column\": \"keywords\",\n      \"properties\": {\n        \"dtype\": \"string\",\n        \"num_unique_values\": 63607,\n        \"samples\": [\n          \"albania, kosovo, balkans, kosovo war\",\n          \"hunting accident, dramedy, brothers\",\n          \"high school, indigenous, native american, basketball team, sport, team sports\"\n        ],\n        \"semantic_type\": \"\",\n        \"description\": \"\"\n      }\n    }\n  ]\n}",
              "type": "dataframe",
              "variable_name": "movies"
            },
            "text/html": [
              "\n",
              "  <div id=\"df-dfa72490-f529-4a40-866a-5bd1b8f1a80d\" class=\"colab-df-container\">\n",
              "    <div>\n",
              "<style scoped>\n",
              "    .dataframe tbody tr th:only-of-type {\n",
              "        vertical-align: middle;\n",
              "    }\n",
              "\n",
              "    .dataframe tbody tr th {\n",
              "        vertical-align: top;\n",
              "    }\n",
              "\n",
              "    .dataframe thead th {\n",
              "        text-align: right;\n",
              "    }\n",
              "</style>\n",
              "<table border=\"1\" class=\"dataframe\">\n",
              "  <thead>\n",
              "    <tr style=\"text-align: right;\">\n",
              "      <th></th>\n",
              "      <th>id</th>\n",
              "      <th>original_language</th>\n",
              "      <th>genres</th>\n",
              "      <th>title</th>\n",
              "      <th>overview</th>\n",
              "      <th>cast</th>\n",
              "      <th>director</th>\n",
              "      <th>keywords</th>\n",
              "    </tr>\n",
              "  </thead>\n",
              "  <tbody>\n",
              "    <tr>\n",
              "      <th>2</th>\n",
              "      <td>12</td>\n",
              "      <td>en</td>\n",
              "      <td>Animation, Family</td>\n",
              "      <td>Finding Nemo</td>\n",
              "      <td>Nemo, an adventurous young clownfish, is unexp...</td>\n",
              "      <td>Bob Bergen, LuLu Ebeling, Bob Peterson, Caroli...</td>\n",
              "      <td>Andrew Stanton</td>\n",
              "      <td>sydney, australia, parent child relationship, ...</td>\n",
              "    </tr>\n",
              "    <tr>\n",
              "      <th>3</th>\n",
              "      <td>16</td>\n",
              "      <td>en</td>\n",
              "      <td>Drama, Crime</td>\n",
              "      <td>Dancer in the Dark</td>\n",
              "      <td>Selma, a Czech immigrant on the verge of blind...</td>\n",
              "      <td>Eric Voge, Anders Thorhauge, Anthony Ajoise Ol...</td>\n",
              "      <td>Lars von Trier</td>\n",
              "      <td>factory worker, dying and death, individual, i...</td>\n",
              "    </tr>\n",
              "    <tr>\n",
              "      <th>4</th>\n",
              "      <td>17</td>\n",
              "      <td>en</td>\n",
              "      <td>Horror, Thriller, Mystery</td>\n",
              "      <td>The Dark</td>\n",
              "      <td>In an attempt to pull her family together, Adè...</td>\n",
              "      <td>Maurice Roëves, Tonya Smith, Richard Elfyn, Se...</td>\n",
              "      <td>John Fawcett</td>\n",
              "      <td>sea, wales, child abuse, shepherd, adolescence...</td>\n",
              "    </tr>\n",
              "    <tr>\n",
              "      <th>5</th>\n",
              "      <td>20</td>\n",
              "      <td>en</td>\n",
              "      <td>Drama, Romance</td>\n",
              "      <td>My Life Without Me</td>\n",
              "      <td>A fatally ill mother with only two months to l...</td>\n",
              "      <td>Jessica Amlee, Alfred Molina, Mark Ruffalo, Am...</td>\n",
              "      <td>Isabel Coixet</td>\n",
              "      <td>dying and death, daughter, farewell, night shi...</td>\n",
              "    </tr>\n",
              "    <tr>\n",
              "      <th>6</th>\n",
              "      <td>22</td>\n",
              "      <td>en</td>\n",
              "      <td>Adventure, Fantasy, Action</td>\n",
              "      <td>Pirates of the Caribbean: The Curse of the Bla...</td>\n",
              "      <td>Jack Sparrow, a freewheeling 18th-century pira...</td>\n",
              "      <td>James McAuley, Michael Sean Tighe, Israel Adur...</td>\n",
              "      <td>Gore Verbinski</td>\n",
              "      <td>blacksmith, east india company, gold, exotic i...</td>\n",
              "    </tr>\n",
              "  </tbody>\n",
              "</table>\n",
              "</div>\n",
              "    <div class=\"colab-df-buttons\">\n",
              "\n",
              "  <div class=\"colab-df-container\">\n",
              "    <button class=\"colab-df-convert\" onclick=\"convertToInteractive('df-dfa72490-f529-4a40-866a-5bd1b8f1a80d')\"\n",
              "            title=\"Convert this dataframe to an interactive table.\"\n",
              "            style=\"display:none;\">\n",
              "\n",
              "  <svg xmlns=\"http://www.w3.org/2000/svg\" height=\"24px\" viewBox=\"0 -960 960 960\">\n",
              "    <path d=\"M120-120v-720h720v720H120Zm60-500h600v-160H180v160Zm220 220h160v-160H400v160Zm0 220h160v-160H400v160ZM180-400h160v-160H180v160Zm440 0h160v-160H620v160ZM180-180h160v-160H180v160Zm440 0h160v-160H620v160Z\"/>\n",
              "  </svg>\n",
              "    </button>\n",
              "\n",
              "  <style>\n",
              "    .colab-df-container {\n",
              "      display:flex;\n",
              "      gap: 12px;\n",
              "    }\n",
              "\n",
              "    .colab-df-convert {\n",
              "      background-color: #E8F0FE;\n",
              "      border: none;\n",
              "      border-radius: 50%;\n",
              "      cursor: pointer;\n",
              "      display: none;\n",
              "      fill: #1967D2;\n",
              "      height: 32px;\n",
              "      padding: 0 0 0 0;\n",
              "      width: 32px;\n",
              "    }\n",
              "\n",
              "    .colab-df-convert:hover {\n",
              "      background-color: #E2EBFA;\n",
              "      box-shadow: 0px 1px 2px rgba(60, 64, 67, 0.3), 0px 1px 3px 1px rgba(60, 64, 67, 0.15);\n",
              "      fill: #174EA6;\n",
              "    }\n",
              "\n",
              "    .colab-df-buttons div {\n",
              "      margin-bottom: 4px;\n",
              "    }\n",
              "\n",
              "    [theme=dark] .colab-df-convert {\n",
              "      background-color: #3B4455;\n",
              "      fill: #D2E3FC;\n",
              "    }\n",
              "\n",
              "    [theme=dark] .colab-df-convert:hover {\n",
              "      background-color: #434B5C;\n",
              "      box-shadow: 0px 1px 3px 1px rgba(0, 0, 0, 0.15);\n",
              "      filter: drop-shadow(0px 1px 2px rgba(0, 0, 0, 0.3));\n",
              "      fill: #FFFFFF;\n",
              "    }\n",
              "  </style>\n",
              "\n",
              "    <script>\n",
              "      const buttonEl =\n",
              "        document.querySelector('#df-dfa72490-f529-4a40-866a-5bd1b8f1a80d button.colab-df-convert');\n",
              "      buttonEl.style.display =\n",
              "        google.colab.kernel.accessAllowed ? 'block' : 'none';\n",
              "\n",
              "      async function convertToInteractive(key) {\n",
              "        const element = document.querySelector('#df-dfa72490-f529-4a40-866a-5bd1b8f1a80d');\n",
              "        const dataTable =\n",
              "          await google.colab.kernel.invokeFunction('convertToInteractive',\n",
              "                                                    [key], {});\n",
              "        if (!dataTable) return;\n",
              "\n",
              "        const docLinkHtml = 'Like what you see? Visit the ' +\n",
              "          '<a target=\"_blank\" href=https://colab.research.google.com/notebooks/data_table.ipynb>data table notebook</a>'\n",
              "          + ' to learn more about interactive tables.';\n",
              "        element.innerHTML = '';\n",
              "        dataTable['output_type'] = 'display_data';\n",
              "        await google.colab.output.renderOutput(dataTable, element);\n",
              "        const docLink = document.createElement('div');\n",
              "        docLink.innerHTML = docLinkHtml;\n",
              "        element.appendChild(docLink);\n",
              "      }\n",
              "    </script>\n",
              "  </div>\n",
              "\n",
              "\n",
              "<div id=\"df-b305308a-9105-422f-aa8e-ff928d2e9d5e\">\n",
              "  <button class=\"colab-df-quickchart\" onclick=\"quickchart('df-b305308a-9105-422f-aa8e-ff928d2e9d5e')\"\n",
              "            title=\"Suggest charts\"\n",
              "            style=\"display:none;\">\n",
              "\n",
              "<svg xmlns=\"http://www.w3.org/2000/svg\" height=\"24px\"viewBox=\"0 0 24 24\"\n",
              "     width=\"24px\">\n",
              "    <g>\n",
              "        <path d=\"M19 3H5c-1.1 0-2 .9-2 2v14c0 1.1.9 2 2 2h14c1.1 0 2-.9 2-2V5c0-1.1-.9-2-2-2zM9 17H7v-7h2v7zm4 0h-2V7h2v10zm4 0h-2v-4h2v4z\"/>\n",
              "    </g>\n",
              "</svg>\n",
              "  </button>\n",
              "\n",
              "<style>\n",
              "  .colab-df-quickchart {\n",
              "      --bg-color: #E8F0FE;\n",
              "      --fill-color: #1967D2;\n",
              "      --hover-bg-color: #E2EBFA;\n",
              "      --hover-fill-color: #174EA6;\n",
              "      --disabled-fill-color: #AAA;\n",
              "      --disabled-bg-color: #DDD;\n",
              "  }\n",
              "\n",
              "  [theme=dark] .colab-df-quickchart {\n",
              "      --bg-color: #3B4455;\n",
              "      --fill-color: #D2E3FC;\n",
              "      --hover-bg-color: #434B5C;\n",
              "      --hover-fill-color: #FFFFFF;\n",
              "      --disabled-bg-color: #3B4455;\n",
              "      --disabled-fill-color: #666;\n",
              "  }\n",
              "\n",
              "  .colab-df-quickchart {\n",
              "    background-color: var(--bg-color);\n",
              "    border: none;\n",
              "    border-radius: 50%;\n",
              "    cursor: pointer;\n",
              "    display: none;\n",
              "    fill: var(--fill-color);\n",
              "    height: 32px;\n",
              "    padding: 0;\n",
              "    width: 32px;\n",
              "  }\n",
              "\n",
              "  .colab-df-quickchart:hover {\n",
              "    background-color: var(--hover-bg-color);\n",
              "    box-shadow: 0 1px 2px rgba(60, 64, 67, 0.3), 0 1px 3px 1px rgba(60, 64, 67, 0.15);\n",
              "    fill: var(--button-hover-fill-color);\n",
              "  }\n",
              "\n",
              "  .colab-df-quickchart-complete:disabled,\n",
              "  .colab-df-quickchart-complete:disabled:hover {\n",
              "    background-color: var(--disabled-bg-color);\n",
              "    fill: var(--disabled-fill-color);\n",
              "    box-shadow: none;\n",
              "  }\n",
              "\n",
              "  .colab-df-spinner {\n",
              "    border: 2px solid var(--fill-color);\n",
              "    border-color: transparent;\n",
              "    border-bottom-color: var(--fill-color);\n",
              "    animation:\n",
              "      spin 1s steps(1) infinite;\n",
              "  }\n",
              "\n",
              "  @keyframes spin {\n",
              "    0% {\n",
              "      border-color: transparent;\n",
              "      border-bottom-color: var(--fill-color);\n",
              "      border-left-color: var(--fill-color);\n",
              "    }\n",
              "    20% {\n",
              "      border-color: transparent;\n",
              "      border-left-color: var(--fill-color);\n",
              "      border-top-color: var(--fill-color);\n",
              "    }\n",
              "    30% {\n",
              "      border-color: transparent;\n",
              "      border-left-color: var(--fill-color);\n",
              "      border-top-color: var(--fill-color);\n",
              "      border-right-color: var(--fill-color);\n",
              "    }\n",
              "    40% {\n",
              "      border-color: transparent;\n",
              "      border-right-color: var(--fill-color);\n",
              "      border-top-color: var(--fill-color);\n",
              "    }\n",
              "    60% {\n",
              "      border-color: transparent;\n",
              "      border-right-color: var(--fill-color);\n",
              "    }\n",
              "    80% {\n",
              "      border-color: transparent;\n",
              "      border-right-color: var(--fill-color);\n",
              "      border-bottom-color: var(--fill-color);\n",
              "    }\n",
              "    90% {\n",
              "      border-color: transparent;\n",
              "      border-bottom-color: var(--fill-color);\n",
              "    }\n",
              "  }\n",
              "</style>\n",
              "\n",
              "  <script>\n",
              "    async function quickchart(key) {\n",
              "      const quickchartButtonEl =\n",
              "        document.querySelector('#' + key + ' button');\n",
              "      quickchartButtonEl.disabled = true;  // To prevent multiple clicks.\n",
              "      quickchartButtonEl.classList.add('colab-df-spinner');\n",
              "      try {\n",
              "        const charts = await google.colab.kernel.invokeFunction(\n",
              "            'suggestCharts', [key], {});\n",
              "      } catch (error) {\n",
              "        console.error('Error during call to suggestCharts:', error);\n",
              "      }\n",
              "      quickchartButtonEl.classList.remove('colab-df-spinner');\n",
              "      quickchartButtonEl.classList.add('colab-df-quickchart-complete');\n",
              "    }\n",
              "    (() => {\n",
              "      let quickchartButtonEl =\n",
              "        document.querySelector('#df-b305308a-9105-422f-aa8e-ff928d2e9d5e button');\n",
              "      quickchartButtonEl.style.display =\n",
              "        google.colab.kernel.accessAllowed ? 'block' : 'none';\n",
              "    })();\n",
              "  </script>\n",
              "</div>\n",
              "\n",
              "    </div>\n",
              "  </div>\n"
            ],
            "text/plain": [
              "   id original_language                      genres  \\\n",
              "2  12                en           Animation, Family   \n",
              "3  16                en                Drama, Crime   \n",
              "4  17                en   Horror, Thriller, Mystery   \n",
              "5  20                en              Drama, Romance   \n",
              "6  22                en  Adventure, Fantasy, Action   \n",
              "\n",
              "                                               title  \\\n",
              "2                                       Finding Nemo   \n",
              "3                                 Dancer in the Dark   \n",
              "4                                           The Dark   \n",
              "5                                 My Life Without Me   \n",
              "6  Pirates of the Caribbean: The Curse of the Bla...   \n",
              "\n",
              "                                            overview  \\\n",
              "2  Nemo, an adventurous young clownfish, is unexp...   \n",
              "3  Selma, a Czech immigrant on the verge of blind...   \n",
              "4  In an attempt to pull her family together, Adè...   \n",
              "5  A fatally ill mother with only two months to l...   \n",
              "6  Jack Sparrow, a freewheeling 18th-century pira...   \n",
              "\n",
              "                                                cast        director  \\\n",
              "2  Bob Bergen, LuLu Ebeling, Bob Peterson, Caroli...  Andrew Stanton   \n",
              "3  Eric Voge, Anders Thorhauge, Anthony Ajoise Ol...  Lars von Trier   \n",
              "4  Maurice Roëves, Tonya Smith, Richard Elfyn, Se...    John Fawcett   \n",
              "5  Jessica Amlee, Alfred Molina, Mark Ruffalo, Am...   Isabel Coixet   \n",
              "6  James McAuley, Michael Sean Tighe, Israel Adur...  Gore Verbinski   \n",
              "\n",
              "                                            keywords  \n",
              "2  sydney, australia, parent child relationship, ...  \n",
              "3  factory worker, dying and death, individual, i...  \n",
              "4  sea, wales, child abuse, shepherd, adolescence...  \n",
              "5  dying and death, daughter, farewell, night shi...  \n",
              "6  blacksmith, east india company, gold, exotic i...  "
            ]
          },
          "execution_count": 183,
          "metadata": {},
          "output_type": "execute_result"
        }
      ],
      "source": [
        "movies.head(5)"
      ]
    },
    {
      "cell_type": "code",
      "execution_count": null,
      "metadata": {
        "colab": {
          "base_uri": "https://localhost:8080/",
          "height": 282
        },
        "id": "0E8LgQzAWoIV",
        "outputId": "cab44d47-c42c-4b48-fe02-f786a6cf18b0"
      },
      "outputs": [
        {
          "data": {
            "text/html": [
              "<table border=\"1\" class=\"dataframe\">\n",
              "  <thead>\n",
              "    <tr style=\"text-align: right;\">\n",
              "      <th></th>\n",
              "      <th>cast</th>\n",
              "    </tr>\n",
              "  </thead>\n",
              "  <tbody>\n",
              "    <tr>\n",
              "      <th>2</th>\n",
              "      <td>Bob Bergen, LuLu Ebeling, Bob Peterson, Caroline Kindred, Jeff Pidgeon, Stephen Root, Bobby Block, Albert Brooks, Brad Garrett, Austin Pendleton, Erica Beck, Alec Medlock, Lee Unkrich, Nicholas Bird, Bradley Trevor Greive, Leland Grossman, Allison Janney, John Ratzenberger, Rove McManus, Susan Blu, Katherine Ringgold, Ellen DeGeneres, Lisa Peers, Laraine Newman, Danny Mann, Mickie McGowan, Noah Luke, Kali Whitehurst, Eliza Schneider, Joe Ranft, Emmett Shoemaker, Jane Carr, Nicole Miller, Bruce Spence, Jan Rabson, Barry Humphries, Eric Bana, Phil Proctor, Michaela Jill Murphy, Sherry Lynn, Carlos Alazraqui, Andrew Stanton, Lili Ishida, Jess Harnell, Marc John Jefferies, David Ian Salter, Vanessa Marano, Erik Per Sullivan, Alexander Gould, Willem Dafoe, Paul Eiding, Annelise Nolting, Aaron Fors, Jack Angel, Elizabeth Perkins, Laura Marano, Geoff Brooks, Daryl Sabara, James S. Baker, Vicki Lewis, Jim Ward, Ben Stanton, Jordan Ranft, Evan Sabara, Bill Hunter, Oliver Kindred, Geoffrey Rush, Jennifer Darling</td>\n",
              "    </tr>\n",
              "    <tr>\n",
              "      <th>3</th>\n",
              "      <td>Eric Voge, Anders Thorhauge, Anthony Ajoise Olufemi Jacob, Katrine Falkenberg, Bjorn Ahlander, Noah Lazarus, Anders Tärneberg, Andrew Lucre, Ana Christine Broström, Jens Albinus, Rikke Lylloff, Luke Reilly, T.J. Rizzo, Birgitte Skands, Karoliina Heiskanen, Caroline Sascha Cogez, Cristian Valle, Udo Kier, Ed Hickok, Paprika Steen, Vladica Kostic, Sheldon Litt, Troels Asmussen, Björk, Anna Rosenberg, Annette Lindholm, Joel Grey, Ami Eklöf-Annell, Anna Norberg, Alex Mouro, Allan Gyldenkærne, Erik Drugge, Edvin Karsson, Timm Zimmermann, Reathel Bean, Stellan Skarsgård, Marianne Bengtsson, Cara Seymour, Siobhan Fallon Hogan, Nick Wolf, Al Agami, Alexander Arli, Anders-Peter Torsleff Hansen, Diana G.L. Watson, Mette Berggreen, Sean-Michael Smith, Bo Westerholm, John Martinus, Frederik Mondrup, Zeljko Ivanek, Peter Stormare, Britt Bendixen, Erik Dammann, Lars Michael Dinesen, Carl Johan De Neergaard, Ann Crosset, David Morse, John Randolph Jones, Catherine Deneuve, Carol Linda Nielsen, Emilie Bendz, Fredrik Börgesson, Jean-Marc Barr, Anna David, Elin Johansson, Eli Stalhand, Bobo Eriksson, Vincent Paterson, Michael Flessas, Claus Berenhard</td>\n",
              "    </tr>\n",
              "    <tr>\n",
              "      <th>4</th>\n",
              "      <td>Maurice Roëves, Tonya Smith, Richard Elfyn, Sean Bean, Robin Griffith, Maria Bello, Sophie Stuckey, Abigail Stone, Casper Harvey, Gwenyth Petty, Eluned Jones</td>\n",
              "    </tr>\n",
              "  </tbody>\n",
              "</table><br><label><b>dtype:</b> object</label>"
            ],
            "text/plain": [
              "2    Bob Bergen, LuLu Ebeling, Bob Peterson, Caroli...\n",
              "3    Eric Voge, Anders Thorhauge, Anthony Ajoise Ol...\n",
              "4    Maurice Roëves, Tonya Smith, Richard Elfyn, Se...\n",
              "Name: cast, dtype: object"
            ]
          },
          "execution_count": 184,
          "metadata": {},
          "output_type": "execute_result"
        }
      ],
      "source": [
        "movies['cast'].head(3)"
      ]
    },
    {
      "cell_type": "markdown",
      "metadata": {
        "id": "tYYCvgXLwsLV"
      },
      "source": [
        "**bold text** make(genres,overview,cast,director,keywords) columns to similar for furthur analysis\n"
      ]
    },
    {
      "cell_type": "code",
      "execution_count": null,
      "metadata": {
        "id": "E9bfhTLFYTe1"
      },
      "outputs": [],
      "source": [
        "#we want only 3-4 actor name\n",
        "movies['cast'] = movies['cast'].str.split(',').apply(lambda x: [i.strip() for i in x[:4]])  # this code will take only 4 actor name and trim the unnesesary space\n",
        "  # this code willremove the inner space \"sam williongton\"---> \"samwilliongton\" . which help our model"
      ]
    },
    {
      "cell_type": "code",
      "execution_count": null,
      "metadata": {
        "id": "IOlX8Omu2dk1"
      },
      "outputs": [],
      "source": [
        "\n",
        "movies['cast']=movies['cast'].apply(lambda x: [i.replace(\" \",\"\") for i in x])"
      ]
    },
    {
      "cell_type": "code",
      "execution_count": null,
      "metadata": {
        "colab": {
          "base_uri": "https://localhost:8080/"
        },
        "id": "sk0ngb3Z2n_W",
        "outputId": "c7675a34-13bf-4ba9-c446-1053e48ce045"
      },
      "outputs": [
        {
          "data": {
            "text/plain": [
              "['BobBergen', 'LuLuEbeling', 'BobPeterson', 'CarolineKindred']"
            ]
          },
          "execution_count": 196,
          "metadata": {},
          "output_type": "execute_result"
        }
      ],
      "source": [
        "movies['cast'][2]"
      ]
    },
    {
      "cell_type": "code",
      "execution_count": null,
      "metadata": {
        "id": "GixrwC5KquVk"
      },
      "outputs": [],
      "source": [
        "#similarly we want to convert for the director\n",
        "movies['director']=movies['director'].str.split(',').apply(lambda x: [i.strip() for i in x] )\n",
        "\n",
        "movies['director']=movies['director'].apply(lambda x: [i.replace(\" \",\"\") for i in x])"
      ]
    },
    {
      "cell_type": "code",
      "execution_count": null,
      "metadata": {
        "colab": {
          "base_uri": "https://localhost:8080/"
        },
        "id": "kek8DypltDLC",
        "outputId": "722f9b83-f4a2-439a-82ea-87523ee8fd1e"
      },
      "outputs": [
        {
          "data": {
            "text/plain": [
              "['DeepaMehta']"
            ]
          },
          "execution_count": 198,
          "metadata": {},
          "output_type": "execute_result"
        }
      ],
      "source": [
        "movies['director'][100]"
      ]
    },
    {
      "cell_type": "code",
      "execution_count": null,
      "metadata": {
        "id": "hzoGW7vPtJP6"
      },
      "outputs": [],
      "source": [
        "#similarly for the genre columns\n",
        "movies['genres']=movies['genres'].str.split(',').apply(lambda x : [i.strip() for i in x])\n",
        "\n",
        "movies['genres']=movies['genres'].apply(lambda x: [i.replace(\" \",\"\") for i in x])"
      ]
    },
    {
      "cell_type": "code",
      "execution_count": null,
      "metadata": {
        "colab": {
          "base_uri": "https://localhost:8080/"
        },
        "id": "P5bm0RZyvKUC",
        "outputId": "522a1a5b-04ae-4f84-e275-f4d5ed6b4794"
      },
      "outputs": [
        {
          "data": {
            "text/plain": [
              "['Animation', 'Family']"
            ]
          },
          "execution_count": 202,
          "metadata": {},
          "output_type": "execute_result"
        }
      ],
      "source": [
        "movies['genres'][2]"
      ]
    },
    {
      "cell_type": "code",
      "execution_count": null,
      "metadata": {
        "id": "W0ta_mSivZLK"
      },
      "outputs": [],
      "source": [
        "#similarly for the key words\n",
        "movies['keywords']=movies['keywords'].str.split(',').apply(lambda x : [i.strip() for i in x])\n",
        "\n",
        "movies['keywords']=movies['keywords'].apply(lambda x: [i.replace(\" \",\"\") for i in x])"
      ]
    },
    {
      "cell_type": "code",
      "execution_count": null,
      "metadata": {
        "colab": {
          "base_uri": "https://localhost:8080/"
        },
        "id": "OPYhUFyrvm6h",
        "outputId": "bc85d2e1-403d-489d-e1f6-4ca061f904d8"
      },
      "outputs": [
        {
          "data": {
            "text/plain": [
              "['blacksmith',\n",
              " 'eastindiacompany',\n",
              " 'gold',\n",
              " 'exoticisland',\n",
              " 'governor',\n",
              " 'skeleton',\n",
              " 'jamaica',\n",
              " 'britishempire',\n",
              " 'pirate',\n",
              " 'swashbuckler',\n",
              " '18thcentury',\n",
              " 'caribbeansea',\n",
              " 'aftercreditsstinger',\n",
              " 'pirateship',\n",
              " 'britishnavy',\n",
              " 'tortuga',\n",
              " 'basedonthemeparkride']"
            ]
          },
          "execution_count": 204,
          "metadata": {},
          "output_type": "execute_result"
        }
      ],
      "source": [
        "movies['keywords'][6]"
      ]
    },
    {
      "cell_type": "code",
      "execution_count": null,
      "metadata": {
        "id": "lJRRakPnv5oZ"
      },
      "outputs": [],
      "source": [
        "#similarly for the over view\n",
        "movies['overview']=movies['overview'].str.split().apply(lambda x : [i.strip() for i in x])\n",
        "\n",
        "movies['overview']=movies['overview'].apply(lambda x: [i.replace(\" \",\"\") for i in x])"
      ]
    },
    {
      "cell_type": "markdown",
      "metadata": {
        "id": "K4uxotJJxCFv"
      },
      "source": [
        "Create a new columns tags combining the column (genres,title,overview,cast,director,keywords) for our model"
      ]
    },
    {
      "cell_type": "code",
      "execution_count": null,
      "metadata": {
        "id": "-YcRXkmVxBNR"
      },
      "outputs": [],
      "source": [
        "movies['tags']=movies['overview']+ movies['genres'] + movies['keywords'] + movies['cast'] + movies['director']"
      ]
    },
    {
      "cell_type": "code",
      "execution_count": null,
      "metadata": {
        "id": "1oe8auU83Ttk"
      },
      "outputs": [],
      "source": [
        "movies.reset_index(inplace=True)"
      ]
    },
    {
      "cell_type": "code",
      "execution_count": null,
      "metadata": {
        "colab": {
          "base_uri": "https://localhost:8080/",
          "height": 292
        },
        "id": "Upkuwg633b7_",
        "outputId": "adc00cb6-e2bc-473c-cb18-7053322f27ad"
      },
      "outputs": [
        {
          "data": {
            "application/vnd.google.colaboratory.intrinsic+json": {
              "summary": "{\n  \"name\": \"movies\",\n  \"rows\": 89951,\n  \"fields\": [\n    {\n      \"column\": \"index\",\n      \"properties\": {\n        \"dtype\": \"number\",\n        \"std\": 144929,\n        \"min\": 2,\n        \"max\": 499300,\n        \"num_unique_values\": 89951,\n        \"samples\": [\n          223460,\n          143168,\n          99403\n        ],\n        \"semantic_type\": \"\",\n        \"description\": \"\"\n      }\n    },\n    {\n      \"column\": \"id\",\n      \"properties\": {\n        \"dtype\": \"number\",\n        \"std\": 379847,\n        \"min\": 12,\n        \"max\": 1322600,\n        \"num_unique_values\": 89951,\n        \"samples\": [\n          652575,\n          458354,\n          346446\n        ],\n        \"semantic_type\": \"\",\n        \"description\": \"\"\n      }\n    },\n    {\n      \"column\": \"original_language\",\n      \"properties\": {\n        \"dtype\": \"category\",\n        \"num_unique_values\": 16,\n        \"samples\": [\n          \"en\",\n          \"es\",\n          \"ja\"\n        ],\n        \"semantic_type\": \"\",\n        \"description\": \"\"\n      }\n    },\n    {\n      \"column\": \"genres\",\n      \"properties\": {\n        \"dtype\": \"object\",\n        \"semantic_type\": \"\",\n        \"description\": \"\"\n      }\n    },\n    {\n      \"column\": \"title\",\n      \"properties\": {\n        \"dtype\": \"string\",\n        \"num_unique_values\": 89951,\n        \"samples\": [\n          \"Young Sister-in-Law 5\",\n          \"Sleeping Beauties\",\n          \"My Babushka: Searching Ukrainian Identities\"\n        ],\n        \"semantic_type\": \"\",\n        \"description\": \"\"\n      }\n    },\n    {\n      \"column\": \"overview\",\n      \"properties\": {\n        \"dtype\": \"object\",\n        \"semantic_type\": \"\",\n        \"description\": \"\"\n      }\n    },\n    {\n      \"column\": \"cast\",\n      \"properties\": {\n        \"dtype\": \"object\",\n        \"semantic_type\": \"\",\n        \"description\": \"\"\n      }\n    },\n    {\n      \"column\": \"director\",\n      \"properties\": {\n        \"dtype\": \"object\",\n        \"semantic_type\": \"\",\n        \"description\": \"\"\n      }\n    },\n    {\n      \"column\": \"keywords\",\n      \"properties\": {\n        \"dtype\": \"object\",\n        \"semantic_type\": \"\",\n        \"description\": \"\"\n      }\n    },\n    {\n      \"column\": \"tags\",\n      \"properties\": {\n        \"dtype\": \"object\",\n        \"semantic_type\": \"\",\n        \"description\": \"\"\n      }\n    }\n  ]\n}",
              "type": "dataframe",
              "variable_name": "movies"
            },
            "text/html": [
              "\n",
              "  <div id=\"df-2a657cd7-3b02-4d04-9d89-fef8fc89abc7\" class=\"colab-df-container\">\n",
              "    <div>\n",
              "<style scoped>\n",
              "    .dataframe tbody tr th:only-of-type {\n",
              "        vertical-align: middle;\n",
              "    }\n",
              "\n",
              "    .dataframe tbody tr th {\n",
              "        vertical-align: top;\n",
              "    }\n",
              "\n",
              "    .dataframe thead th {\n",
              "        text-align: right;\n",
              "    }\n",
              "</style>\n",
              "<table border=\"1\" class=\"dataframe\">\n",
              "  <thead>\n",
              "    <tr style=\"text-align: right;\">\n",
              "      <th></th>\n",
              "      <th>index</th>\n",
              "      <th>id</th>\n",
              "      <th>original_language</th>\n",
              "      <th>genres</th>\n",
              "      <th>title</th>\n",
              "      <th>overview</th>\n",
              "      <th>cast</th>\n",
              "      <th>director</th>\n",
              "      <th>keywords</th>\n",
              "      <th>tags</th>\n",
              "    </tr>\n",
              "  </thead>\n",
              "  <tbody>\n",
              "    <tr>\n",
              "      <th>0</th>\n",
              "      <td>2</td>\n",
              "      <td>12</td>\n",
              "      <td>en</td>\n",
              "      <td>[Animation, Family]</td>\n",
              "      <td>Finding Nemo</td>\n",
              "      <td>[Nemo,, an, adventurous, young, clownfish,, is...</td>\n",
              "      <td>[BobBergen, LuLuEbeling, BobPeterson, Caroline...</td>\n",
              "      <td>[AndrewStanton]</td>\n",
              "      <td>[sydney, australia, parentchildrelationship, a...</td>\n",
              "      <td>[Nemo,, an, adventurous, young, clownfish,, is...</td>\n",
              "    </tr>\n",
              "    <tr>\n",
              "      <th>1</th>\n",
              "      <td>3</td>\n",
              "      <td>16</td>\n",
              "      <td>en</td>\n",
              "      <td>[Drama, Crime]</td>\n",
              "      <td>Dancer in the Dark</td>\n",
              "      <td>[Selma,, a, Czech, immigrant, on, the, verge, ...</td>\n",
              "      <td>[EricVoge, AndersThorhauge, AnthonyAjoiseOlufe...</td>\n",
              "      <td>[LarsvonTrier]</td>\n",
              "      <td>[factoryworker, dyinganddeath, individual, imm...</td>\n",
              "      <td>[Selma,, a, Czech, immigrant, on, the, verge, ...</td>\n",
              "    </tr>\n",
              "    <tr>\n",
              "      <th>2</th>\n",
              "      <td>4</td>\n",
              "      <td>17</td>\n",
              "      <td>en</td>\n",
              "      <td>[Horror, Thriller, Mystery]</td>\n",
              "      <td>The Dark</td>\n",
              "      <td>[In, an, attempt, to, pull, her, family, toget...</td>\n",
              "      <td>[MauriceRoëves, TonyaSmith, RichardElfyn, Sean...</td>\n",
              "      <td>[JohnFawcett]</td>\n",
              "      <td>[sea, wales, childabuse, shepherd, adolescence...</td>\n",
              "      <td>[In, an, attempt, to, pull, her, family, toget...</td>\n",
              "    </tr>\n",
              "    <tr>\n",
              "      <th>3</th>\n",
              "      <td>5</td>\n",
              "      <td>20</td>\n",
              "      <td>en</td>\n",
              "      <td>[Drama, Romance]</td>\n",
              "      <td>My Life Without Me</td>\n",
              "      <td>[A, fatally, ill, mother, with, only, two, mon...</td>\n",
              "      <td>[JessicaAmlee, AlfredMolina, MarkRuffalo, Aman...</td>\n",
              "      <td>[IsabelCoixet]</td>\n",
              "      <td>[dyinganddeath, daughter, farewell, nightshift...</td>\n",
              "      <td>[A, fatally, ill, mother, with, only, two, mon...</td>\n",
              "    </tr>\n",
              "    <tr>\n",
              "      <th>4</th>\n",
              "      <td>6</td>\n",
              "      <td>22</td>\n",
              "      <td>en</td>\n",
              "      <td>[Adventure, Fantasy, Action]</td>\n",
              "      <td>Pirates of the Caribbean: The Curse of the Bla...</td>\n",
              "      <td>[Jack, Sparrow,, a, freewheeling, 18th-century...</td>\n",
              "      <td>[JamesMcAuley, MichaelSeanTighe, IsraelAduramo...</td>\n",
              "      <td>[GoreVerbinski]</td>\n",
              "      <td>[blacksmith, eastindiacompany, gold, exoticisl...</td>\n",
              "      <td>[Jack, Sparrow,, a, freewheeling, 18th-century...</td>\n",
              "    </tr>\n",
              "  </tbody>\n",
              "</table>\n",
              "</div>\n",
              "    <div class=\"colab-df-buttons\">\n",
              "\n",
              "  <div class=\"colab-df-container\">\n",
              "    <button class=\"colab-df-convert\" onclick=\"convertToInteractive('df-2a657cd7-3b02-4d04-9d89-fef8fc89abc7')\"\n",
              "            title=\"Convert this dataframe to an interactive table.\"\n",
              "            style=\"display:none;\">\n",
              "\n",
              "  <svg xmlns=\"http://www.w3.org/2000/svg\" height=\"24px\" viewBox=\"0 -960 960 960\">\n",
              "    <path d=\"M120-120v-720h720v720H120Zm60-500h600v-160H180v160Zm220 220h160v-160H400v160Zm0 220h160v-160H400v160ZM180-400h160v-160H180v160Zm440 0h160v-160H620v160ZM180-180h160v-160H180v160Zm440 0h160v-160H620v160Z\"/>\n",
              "  </svg>\n",
              "    </button>\n",
              "\n",
              "  <style>\n",
              "    .colab-df-container {\n",
              "      display:flex;\n",
              "      gap: 12px;\n",
              "    }\n",
              "\n",
              "    .colab-df-convert {\n",
              "      background-color: #E8F0FE;\n",
              "      border: none;\n",
              "      border-radius: 50%;\n",
              "      cursor: pointer;\n",
              "      display: none;\n",
              "      fill: #1967D2;\n",
              "      height: 32px;\n",
              "      padding: 0 0 0 0;\n",
              "      width: 32px;\n",
              "    }\n",
              "\n",
              "    .colab-df-convert:hover {\n",
              "      background-color: #E2EBFA;\n",
              "      box-shadow: 0px 1px 2px rgba(60, 64, 67, 0.3), 0px 1px 3px 1px rgba(60, 64, 67, 0.15);\n",
              "      fill: #174EA6;\n",
              "    }\n",
              "\n",
              "    .colab-df-buttons div {\n",
              "      margin-bottom: 4px;\n",
              "    }\n",
              "\n",
              "    [theme=dark] .colab-df-convert {\n",
              "      background-color: #3B4455;\n",
              "      fill: #D2E3FC;\n",
              "    }\n",
              "\n",
              "    [theme=dark] .colab-df-convert:hover {\n",
              "      background-color: #434B5C;\n",
              "      box-shadow: 0px 1px 3px 1px rgba(0, 0, 0, 0.15);\n",
              "      filter: drop-shadow(0px 1px 2px rgba(0, 0, 0, 0.3));\n",
              "      fill: #FFFFFF;\n",
              "    }\n",
              "  </style>\n",
              "\n",
              "    <script>\n",
              "      const buttonEl =\n",
              "        document.querySelector('#df-2a657cd7-3b02-4d04-9d89-fef8fc89abc7 button.colab-df-convert');\n",
              "      buttonEl.style.display =\n",
              "        google.colab.kernel.accessAllowed ? 'block' : 'none';\n",
              "\n",
              "      async function convertToInteractive(key) {\n",
              "        const element = document.querySelector('#df-2a657cd7-3b02-4d04-9d89-fef8fc89abc7');\n",
              "        const dataTable =\n",
              "          await google.colab.kernel.invokeFunction('convertToInteractive',\n",
              "                                                    [key], {});\n",
              "        if (!dataTable) return;\n",
              "\n",
              "        const docLinkHtml = 'Like what you see? Visit the ' +\n",
              "          '<a target=\"_blank\" href=https://colab.research.google.com/notebooks/data_table.ipynb>data table notebook</a>'\n",
              "          + ' to learn more about interactive tables.';\n",
              "        element.innerHTML = '';\n",
              "        dataTable['output_type'] = 'display_data';\n",
              "        await google.colab.output.renderOutput(dataTable, element);\n",
              "        const docLink = document.createElement('div');\n",
              "        docLink.innerHTML = docLinkHtml;\n",
              "        element.appendChild(docLink);\n",
              "      }\n",
              "    </script>\n",
              "  </div>\n",
              "\n",
              "\n",
              "<div id=\"df-95215fd9-f3ed-4a0d-946b-f4ec962ed985\">\n",
              "  <button class=\"colab-df-quickchart\" onclick=\"quickchart('df-95215fd9-f3ed-4a0d-946b-f4ec962ed985')\"\n",
              "            title=\"Suggest charts\"\n",
              "            style=\"display:none;\">\n",
              "\n",
              "<svg xmlns=\"http://www.w3.org/2000/svg\" height=\"24px\"viewBox=\"0 0 24 24\"\n",
              "     width=\"24px\">\n",
              "    <g>\n",
              "        <path d=\"M19 3H5c-1.1 0-2 .9-2 2v14c0 1.1.9 2 2 2h14c1.1 0 2-.9 2-2V5c0-1.1-.9-2-2-2zM9 17H7v-7h2v7zm4 0h-2V7h2v10zm4 0h-2v-4h2v4z\"/>\n",
              "    </g>\n",
              "</svg>\n",
              "  </button>\n",
              "\n",
              "<style>\n",
              "  .colab-df-quickchart {\n",
              "      --bg-color: #E8F0FE;\n",
              "      --fill-color: #1967D2;\n",
              "      --hover-bg-color: #E2EBFA;\n",
              "      --hover-fill-color: #174EA6;\n",
              "      --disabled-fill-color: #AAA;\n",
              "      --disabled-bg-color: #DDD;\n",
              "  }\n",
              "\n",
              "  [theme=dark] .colab-df-quickchart {\n",
              "      --bg-color: #3B4455;\n",
              "      --fill-color: #D2E3FC;\n",
              "      --hover-bg-color: #434B5C;\n",
              "      --hover-fill-color: #FFFFFF;\n",
              "      --disabled-bg-color: #3B4455;\n",
              "      --disabled-fill-color: #666;\n",
              "  }\n",
              "\n",
              "  .colab-df-quickchart {\n",
              "    background-color: var(--bg-color);\n",
              "    border: none;\n",
              "    border-radius: 50%;\n",
              "    cursor: pointer;\n",
              "    display: none;\n",
              "    fill: var(--fill-color);\n",
              "    height: 32px;\n",
              "    padding: 0;\n",
              "    width: 32px;\n",
              "  }\n",
              "\n",
              "  .colab-df-quickchart:hover {\n",
              "    background-color: var(--hover-bg-color);\n",
              "    box-shadow: 0 1px 2px rgba(60, 64, 67, 0.3), 0 1px 3px 1px rgba(60, 64, 67, 0.15);\n",
              "    fill: var(--button-hover-fill-color);\n",
              "  }\n",
              "\n",
              "  .colab-df-quickchart-complete:disabled,\n",
              "  .colab-df-quickchart-complete:disabled:hover {\n",
              "    background-color: var(--disabled-bg-color);\n",
              "    fill: var(--disabled-fill-color);\n",
              "    box-shadow: none;\n",
              "  }\n",
              "\n",
              "  .colab-df-spinner {\n",
              "    border: 2px solid var(--fill-color);\n",
              "    border-color: transparent;\n",
              "    border-bottom-color: var(--fill-color);\n",
              "    animation:\n",
              "      spin 1s steps(1) infinite;\n",
              "  }\n",
              "\n",
              "  @keyframes spin {\n",
              "    0% {\n",
              "      border-color: transparent;\n",
              "      border-bottom-color: var(--fill-color);\n",
              "      border-left-color: var(--fill-color);\n",
              "    }\n",
              "    20% {\n",
              "      border-color: transparent;\n",
              "      border-left-color: var(--fill-color);\n",
              "      border-top-color: var(--fill-color);\n",
              "    }\n",
              "    30% {\n",
              "      border-color: transparent;\n",
              "      border-left-color: var(--fill-color);\n",
              "      border-top-color: var(--fill-color);\n",
              "      border-right-color: var(--fill-color);\n",
              "    }\n",
              "    40% {\n",
              "      border-color: transparent;\n",
              "      border-right-color: var(--fill-color);\n",
              "      border-top-color: var(--fill-color);\n",
              "    }\n",
              "    60% {\n",
              "      border-color: transparent;\n",
              "      border-right-color: var(--fill-color);\n",
              "    }\n",
              "    80% {\n",
              "      border-color: transparent;\n",
              "      border-right-color: var(--fill-color);\n",
              "      border-bottom-color: var(--fill-color);\n",
              "    }\n",
              "    90% {\n",
              "      border-color: transparent;\n",
              "      border-bottom-color: var(--fill-color);\n",
              "    }\n",
              "  }\n",
              "</style>\n",
              "\n",
              "  <script>\n",
              "    async function quickchart(key) {\n",
              "      const quickchartButtonEl =\n",
              "        document.querySelector('#' + key + ' button');\n",
              "      quickchartButtonEl.disabled = true;  // To prevent multiple clicks.\n",
              "      quickchartButtonEl.classList.add('colab-df-spinner');\n",
              "      try {\n",
              "        const charts = await google.colab.kernel.invokeFunction(\n",
              "            'suggestCharts', [key], {});\n",
              "      } catch (error) {\n",
              "        console.error('Error during call to suggestCharts:', error);\n",
              "      }\n",
              "      quickchartButtonEl.classList.remove('colab-df-spinner');\n",
              "      quickchartButtonEl.classList.add('colab-df-quickchart-complete');\n",
              "    }\n",
              "    (() => {\n",
              "      let quickchartButtonEl =\n",
              "        document.querySelector('#df-95215fd9-f3ed-4a0d-946b-f4ec962ed985 button');\n",
              "      quickchartButtonEl.style.display =\n",
              "        google.colab.kernel.accessAllowed ? 'block' : 'none';\n",
              "    })();\n",
              "  </script>\n",
              "</div>\n",
              "\n",
              "    </div>\n",
              "  </div>\n"
            ],
            "text/plain": [
              "   index  id original_language                        genres  \\\n",
              "0      2  12                en           [Animation, Family]   \n",
              "1      3  16                en                [Drama, Crime]   \n",
              "2      4  17                en   [Horror, Thriller, Mystery]   \n",
              "3      5  20                en              [Drama, Romance]   \n",
              "4      6  22                en  [Adventure, Fantasy, Action]   \n",
              "\n",
              "                                               title  \\\n",
              "0                                       Finding Nemo   \n",
              "1                                 Dancer in the Dark   \n",
              "2                                           The Dark   \n",
              "3                                 My Life Without Me   \n",
              "4  Pirates of the Caribbean: The Curse of the Bla...   \n",
              "\n",
              "                                            overview  \\\n",
              "0  [Nemo,, an, adventurous, young, clownfish,, is...   \n",
              "1  [Selma,, a, Czech, immigrant, on, the, verge, ...   \n",
              "2  [In, an, attempt, to, pull, her, family, toget...   \n",
              "3  [A, fatally, ill, mother, with, only, two, mon...   \n",
              "4  [Jack, Sparrow,, a, freewheeling, 18th-century...   \n",
              "\n",
              "                                                cast         director  \\\n",
              "0  [BobBergen, LuLuEbeling, BobPeterson, Caroline...  [AndrewStanton]   \n",
              "1  [EricVoge, AndersThorhauge, AnthonyAjoiseOlufe...   [LarsvonTrier]   \n",
              "2  [MauriceRoëves, TonyaSmith, RichardElfyn, Sean...    [JohnFawcett]   \n",
              "3  [JessicaAmlee, AlfredMolina, MarkRuffalo, Aman...   [IsabelCoixet]   \n",
              "4  [JamesMcAuley, MichaelSeanTighe, IsraelAduramo...  [GoreVerbinski]   \n",
              "\n",
              "                                            keywords  \\\n",
              "0  [sydney, australia, parentchildrelationship, a...   \n",
              "1  [factoryworker, dyinganddeath, individual, imm...   \n",
              "2  [sea, wales, childabuse, shepherd, adolescence...   \n",
              "3  [dyinganddeath, daughter, farewell, nightshift...   \n",
              "4  [blacksmith, eastindiacompany, gold, exoticisl...   \n",
              "\n",
              "                                                tags  \n",
              "0  [Nemo,, an, adventurous, young, clownfish,, is...  \n",
              "1  [Selma,, a, Czech, immigrant, on, the, verge, ...  \n",
              "2  [In, an, attempt, to, pull, her, family, toget...  \n",
              "3  [A, fatally, ill, mother, with, only, two, mon...  \n",
              "4  [Jack, Sparrow,, a, freewheeling, 18th-century...  "
            ]
          },
          "execution_count": 209,
          "metadata": {},
          "output_type": "execute_result"
        }
      ],
      "source": [
        "movies.head()"
      ]
    },
    {
      "cell_type": "markdown",
      "metadata": {
        "id": "jFh0fCXw06Mp"
      },
      "source": [
        "we need id,title,tags columns from the above table"
      ]
    },
    {
      "cell_type": "code",
      "execution_count": null,
      "metadata": {
        "colab": {
          "base_uri": "https://localhost:8080/"
        },
        "id": "bIaCXX2L051V",
        "outputId": "42ca5311-e624-4bde-8724-ab4badfa08d5"
      },
      "outputs": [
        {
          "data": {
            "text/plain": [
              "Index(['index', 'id', 'original_language', 'genres', 'title', 'overview',\n",
              "       'cast', 'director', 'keywords', 'tags'],\n",
              "      dtype='object')"
            ]
          },
          "execution_count": 210,
          "metadata": {},
          "output_type": "execute_result"
        }
      ],
      "source": [
        "movies.columns"
      ]
    },
    {
      "cell_type": "code",
      "execution_count": null,
      "metadata": {
        "colab": {
          "base_uri": "https://localhost:8080/"
        },
        "id": "wwfYYtAa3wec",
        "outputId": "c0052799-bbd9-4e63-f235-0f68cc2b0444"
      },
      "outputs": [
        {
          "data": {
            "text/plain": [
              "(89951, 10)"
            ]
          },
          "execution_count": 211,
          "metadata": {},
          "output_type": "execute_result"
        }
      ],
      "source": [
        "movies.shape"
      ]
    },
    {
      "cell_type": "markdown",
      "metadata": {
        "id": "07Y8rSs52BKy"
      },
      "source": [
        "new_df is created\n"
      ]
    },
    {
      "cell_type": "code",
      "execution_count": null,
      "metadata": {
        "id": "I7iG4r341Fg4"
      },
      "outputs": [],
      "source": [
        "new_df=movies[['id','original_language','title','tags']]"
      ]
    },
    {
      "cell_type": "code",
      "execution_count": null,
      "metadata": {
        "colab": {
          "base_uri": "https://localhost:8080/"
        },
        "id": "NqBhP49E2Ewl",
        "outputId": "705bc0ee-0fe8-4507-c245-2f97c99db00d"
      },
      "outputs": [
        {
          "name": "stderr",
          "output_type": "stream",
          "text": [
            "<ipython-input-213-4fbcf56c62ac>:2: SettingWithCopyWarning: \n",
            "A value is trying to be set on a copy of a slice from a DataFrame.\n",
            "Try using .loc[row_indexer,col_indexer] = value instead\n",
            "\n",
            "See the caveats in the documentation: https://pandas.pydata.org/pandas-docs/stable/user_guide/indexing.html#returning-a-view-versus-a-copy\n",
            "  new_df['tags']=new_df['tags'].apply(lambda x : \" \".join(x))\n"
          ]
        }
      ],
      "source": [
        "#converting all the list tags to string\n",
        "new_df['tags']=new_df['tags'].apply(lambda x : \" \".join(x))"
      ]
    },
    {
      "cell_type": "code",
      "execution_count": null,
      "metadata": {
        "colab": {
          "base_uri": "https://localhost:8080/"
        },
        "id": "bc4_HKkd2dxZ",
        "outputId": "d8444551-b8c1-4a9f-9f4b-eef53313f6e1"
      },
      "outputs": [
        {
          "name": "stderr",
          "output_type": "stream",
          "text": [
            "<ipython-input-214-1f515a259427>:2: SettingWithCopyWarning: \n",
            "A value is trying to be set on a copy of a slice from a DataFrame.\n",
            "Try using .loc[row_indexer,col_indexer] = value instead\n",
            "\n",
            "See the caveats in the documentation: https://pandas.pydata.org/pandas-docs/stable/user_guide/indexing.html#returning-a-view-versus-a-copy\n",
            "  new_df['tags']=new_df['tags'].apply(lambda x: x.lower())\n"
          ]
        }
      ],
      "source": [
        "#converting all the tags to lowercase\n",
        "new_df['tags']=new_df['tags'].apply(lambda x: x.lower())"
      ]
    },
    {
      "cell_type": "code",
      "execution_count": null,
      "metadata": {
        "colab": {
          "base_uri": "https://localhost:8080/",
          "height": 206
        },
        "id": "KJSG29sG3Vww",
        "outputId": "75df97b4-a54c-40f7-abee-c6c54da90e0f"
      },
      "outputs": [
        {
          "data": {
            "application/vnd.google.colaboratory.intrinsic+json": {
              "summary": "{\n  \"name\": \"new_df\",\n  \"rows\": 89951,\n  \"fields\": [\n    {\n      \"column\": \"id\",\n      \"properties\": {\n        \"dtype\": \"number\",\n        \"std\": 379847,\n        \"min\": 12,\n        \"max\": 1322600,\n        \"num_unique_values\": 89951,\n        \"samples\": [\n          652575,\n          458354,\n          346446\n        ],\n        \"semantic_type\": \"\",\n        \"description\": \"\"\n      }\n    },\n    {\n      \"column\": \"original_language\",\n      \"properties\": {\n        \"dtype\": \"category\",\n        \"num_unique_values\": 16,\n        \"samples\": [\n          \"en\",\n          \"es\",\n          \"ja\"\n        ],\n        \"semantic_type\": \"\",\n        \"description\": \"\"\n      }\n    },\n    {\n      \"column\": \"title\",\n      \"properties\": {\n        \"dtype\": \"string\",\n        \"num_unique_values\": 89951,\n        \"samples\": [\n          \"Young Sister-in-Law 5\",\n          \"Sleeping Beauties\",\n          \"My Babushka: Searching Ukrainian Identities\"\n        ],\n        \"semantic_type\": \"\",\n        \"description\": \"\"\n      }\n    },\n    {\n      \"column\": \"tags\",\n      \"properties\": {\n        \"dtype\": \"string\",\n        \"num_unique_values\": 89934,\n        \"samples\": [\n          \"when rebellious street dancer andie lands at the elite maryland school of the arts, she finds herself fighting to fit in while also trying to hold onto her old life. when she joins forces with the schools hottest dancer, chase, to form a crew of classmate outcasts to compete in baltimore s underground dance battle the streets. music drama romance underdog hip-hop streetgang scholarship competition breakdance insurgence heart-throb tapdancing ballet marikoda brianaevigan luisrosado sonjasohn jonm.chu\",\n          \"with its armies sweeping across the continent, the empire seems unstoppable. after securing victory over the remnants of the republic's army, the empire's ultimate victory is finally within reach. however, dark clouds are gathering in the east. the communist-led russy federation is mustering troops on its western border, preparing to enter the war. supported by a detachment of allied volunteer magicians\\u2014among whom is mary sioux, the daughter of a soldier killed by tanya\\u2014the federation is determined to spread the communist creed and bring the empire to its knees. meanwhile, tanya and her battalion return to the imperial capital from the southern front. upon their arrival, they are tasked with investigating troop movements on the border with the federation. any escalation of violence at this point may lead to new conflicts, plunging the world into a global war. will the empire eventually emerge victorious from its struggle, or will it crumble in the face radically different ideologies? animation action war fantasy magic military anime anotherworld isekai toshiyukimorikawa tessyogenda saorihayami yusukekobayashi yutakauemura\",\n          \"stop motion extravaganza of a motorcycle made of fruit, two lovers riding in the night. romance animation motorcycle gaytheme joachimvonhin\\u00fcber maltebeckmann evabr\\u00f6ckerhoff juanadubiel\"\n        ],\n        \"semantic_type\": \"\",\n        \"description\": \"\"\n      }\n    }\n  ]\n}",
              "type": "dataframe",
              "variable_name": "new_df"
            },
            "text/html": [
              "\n",
              "  <div id=\"df-a9c8d32d-8ff9-45b7-86d8-e2a4f4d17d0b\" class=\"colab-df-container\">\n",
              "    <div>\n",
              "<style scoped>\n",
              "    .dataframe tbody tr th:only-of-type {\n",
              "        vertical-align: middle;\n",
              "    }\n",
              "\n",
              "    .dataframe tbody tr th {\n",
              "        vertical-align: top;\n",
              "    }\n",
              "\n",
              "    .dataframe thead th {\n",
              "        text-align: right;\n",
              "    }\n",
              "</style>\n",
              "<table border=\"1\" class=\"dataframe\">\n",
              "  <thead>\n",
              "    <tr style=\"text-align: right;\">\n",
              "      <th></th>\n",
              "      <th>id</th>\n",
              "      <th>original_language</th>\n",
              "      <th>title</th>\n",
              "      <th>tags</th>\n",
              "    </tr>\n",
              "  </thead>\n",
              "  <tbody>\n",
              "    <tr>\n",
              "      <th>0</th>\n",
              "      <td>12</td>\n",
              "      <td>en</td>\n",
              "      <td>Finding Nemo</td>\n",
              "      <td>nemo, an adventurous young clownfish, is unexp...</td>\n",
              "    </tr>\n",
              "    <tr>\n",
              "      <th>1</th>\n",
              "      <td>16</td>\n",
              "      <td>en</td>\n",
              "      <td>Dancer in the Dark</td>\n",
              "      <td>selma, a czech immigrant on the verge of blind...</td>\n",
              "    </tr>\n",
              "    <tr>\n",
              "      <th>2</th>\n",
              "      <td>17</td>\n",
              "      <td>en</td>\n",
              "      <td>The Dark</td>\n",
              "      <td>in an attempt to pull her family together, adè...</td>\n",
              "    </tr>\n",
              "    <tr>\n",
              "      <th>3</th>\n",
              "      <td>20</td>\n",
              "      <td>en</td>\n",
              "      <td>My Life Without Me</td>\n",
              "      <td>a fatally ill mother with only two months to l...</td>\n",
              "    </tr>\n",
              "    <tr>\n",
              "      <th>4</th>\n",
              "      <td>22</td>\n",
              "      <td>en</td>\n",
              "      <td>Pirates of the Caribbean: The Curse of the Bla...</td>\n",
              "      <td>jack sparrow, a freewheeling 18th-century pira...</td>\n",
              "    </tr>\n",
              "  </tbody>\n",
              "</table>\n",
              "</div>\n",
              "    <div class=\"colab-df-buttons\">\n",
              "\n",
              "  <div class=\"colab-df-container\">\n",
              "    <button class=\"colab-df-convert\" onclick=\"convertToInteractive('df-a9c8d32d-8ff9-45b7-86d8-e2a4f4d17d0b')\"\n",
              "            title=\"Convert this dataframe to an interactive table.\"\n",
              "            style=\"display:none;\">\n",
              "\n",
              "  <svg xmlns=\"http://www.w3.org/2000/svg\" height=\"24px\" viewBox=\"0 -960 960 960\">\n",
              "    <path d=\"M120-120v-720h720v720H120Zm60-500h600v-160H180v160Zm220 220h160v-160H400v160Zm0 220h160v-160H400v160ZM180-400h160v-160H180v160Zm440 0h160v-160H620v160ZM180-180h160v-160H180v160Zm440 0h160v-160H620v160Z\"/>\n",
              "  </svg>\n",
              "    </button>\n",
              "\n",
              "  <style>\n",
              "    .colab-df-container {\n",
              "      display:flex;\n",
              "      gap: 12px;\n",
              "    }\n",
              "\n",
              "    .colab-df-convert {\n",
              "      background-color: #E8F0FE;\n",
              "      border: none;\n",
              "      border-radius: 50%;\n",
              "      cursor: pointer;\n",
              "      display: none;\n",
              "      fill: #1967D2;\n",
              "      height: 32px;\n",
              "      padding: 0 0 0 0;\n",
              "      width: 32px;\n",
              "    }\n",
              "\n",
              "    .colab-df-convert:hover {\n",
              "      background-color: #E2EBFA;\n",
              "      box-shadow: 0px 1px 2px rgba(60, 64, 67, 0.3), 0px 1px 3px 1px rgba(60, 64, 67, 0.15);\n",
              "      fill: #174EA6;\n",
              "    }\n",
              "\n",
              "    .colab-df-buttons div {\n",
              "      margin-bottom: 4px;\n",
              "    }\n",
              "\n",
              "    [theme=dark] .colab-df-convert {\n",
              "      background-color: #3B4455;\n",
              "      fill: #D2E3FC;\n",
              "    }\n",
              "\n",
              "    [theme=dark] .colab-df-convert:hover {\n",
              "      background-color: #434B5C;\n",
              "      box-shadow: 0px 1px 3px 1px rgba(0, 0, 0, 0.15);\n",
              "      filter: drop-shadow(0px 1px 2px rgba(0, 0, 0, 0.3));\n",
              "      fill: #FFFFFF;\n",
              "    }\n",
              "  </style>\n",
              "\n",
              "    <script>\n",
              "      const buttonEl =\n",
              "        document.querySelector('#df-a9c8d32d-8ff9-45b7-86d8-e2a4f4d17d0b button.colab-df-convert');\n",
              "      buttonEl.style.display =\n",
              "        google.colab.kernel.accessAllowed ? 'block' : 'none';\n",
              "\n",
              "      async function convertToInteractive(key) {\n",
              "        const element = document.querySelector('#df-a9c8d32d-8ff9-45b7-86d8-e2a4f4d17d0b');\n",
              "        const dataTable =\n",
              "          await google.colab.kernel.invokeFunction('convertToInteractive',\n",
              "                                                    [key], {});\n",
              "        if (!dataTable) return;\n",
              "\n",
              "        const docLinkHtml = 'Like what you see? Visit the ' +\n",
              "          '<a target=\"_blank\" href=https://colab.research.google.com/notebooks/data_table.ipynb>data table notebook</a>'\n",
              "          + ' to learn more about interactive tables.';\n",
              "        element.innerHTML = '';\n",
              "        dataTable['output_type'] = 'display_data';\n",
              "        await google.colab.output.renderOutput(dataTable, element);\n",
              "        const docLink = document.createElement('div');\n",
              "        docLink.innerHTML = docLinkHtml;\n",
              "        element.appendChild(docLink);\n",
              "      }\n",
              "    </script>\n",
              "  </div>\n",
              "\n",
              "\n",
              "<div id=\"df-9254f2a7-51a0-42a5-978a-69c5e94fc56a\">\n",
              "  <button class=\"colab-df-quickchart\" onclick=\"quickchart('df-9254f2a7-51a0-42a5-978a-69c5e94fc56a')\"\n",
              "            title=\"Suggest charts\"\n",
              "            style=\"display:none;\">\n",
              "\n",
              "<svg xmlns=\"http://www.w3.org/2000/svg\" height=\"24px\"viewBox=\"0 0 24 24\"\n",
              "     width=\"24px\">\n",
              "    <g>\n",
              "        <path d=\"M19 3H5c-1.1 0-2 .9-2 2v14c0 1.1.9 2 2 2h14c1.1 0 2-.9 2-2V5c0-1.1-.9-2-2-2zM9 17H7v-7h2v7zm4 0h-2V7h2v10zm4 0h-2v-4h2v4z\"/>\n",
              "    </g>\n",
              "</svg>\n",
              "  </button>\n",
              "\n",
              "<style>\n",
              "  .colab-df-quickchart {\n",
              "      --bg-color: #E8F0FE;\n",
              "      --fill-color: #1967D2;\n",
              "      --hover-bg-color: #E2EBFA;\n",
              "      --hover-fill-color: #174EA6;\n",
              "      --disabled-fill-color: #AAA;\n",
              "      --disabled-bg-color: #DDD;\n",
              "  }\n",
              "\n",
              "  [theme=dark] .colab-df-quickchart {\n",
              "      --bg-color: #3B4455;\n",
              "      --fill-color: #D2E3FC;\n",
              "      --hover-bg-color: #434B5C;\n",
              "      --hover-fill-color: #FFFFFF;\n",
              "      --disabled-bg-color: #3B4455;\n",
              "      --disabled-fill-color: #666;\n",
              "  }\n",
              "\n",
              "  .colab-df-quickchart {\n",
              "    background-color: var(--bg-color);\n",
              "    border: none;\n",
              "    border-radius: 50%;\n",
              "    cursor: pointer;\n",
              "    display: none;\n",
              "    fill: var(--fill-color);\n",
              "    height: 32px;\n",
              "    padding: 0;\n",
              "    width: 32px;\n",
              "  }\n",
              "\n",
              "  .colab-df-quickchart:hover {\n",
              "    background-color: var(--hover-bg-color);\n",
              "    box-shadow: 0 1px 2px rgba(60, 64, 67, 0.3), 0 1px 3px 1px rgba(60, 64, 67, 0.15);\n",
              "    fill: var(--button-hover-fill-color);\n",
              "  }\n",
              "\n",
              "  .colab-df-quickchart-complete:disabled,\n",
              "  .colab-df-quickchart-complete:disabled:hover {\n",
              "    background-color: var(--disabled-bg-color);\n",
              "    fill: var(--disabled-fill-color);\n",
              "    box-shadow: none;\n",
              "  }\n",
              "\n",
              "  .colab-df-spinner {\n",
              "    border: 2px solid var(--fill-color);\n",
              "    border-color: transparent;\n",
              "    border-bottom-color: var(--fill-color);\n",
              "    animation:\n",
              "      spin 1s steps(1) infinite;\n",
              "  }\n",
              "\n",
              "  @keyframes spin {\n",
              "    0% {\n",
              "      border-color: transparent;\n",
              "      border-bottom-color: var(--fill-color);\n",
              "      border-left-color: var(--fill-color);\n",
              "    }\n",
              "    20% {\n",
              "      border-color: transparent;\n",
              "      border-left-color: var(--fill-color);\n",
              "      border-top-color: var(--fill-color);\n",
              "    }\n",
              "    30% {\n",
              "      border-color: transparent;\n",
              "      border-left-color: var(--fill-color);\n",
              "      border-top-color: var(--fill-color);\n",
              "      border-right-color: var(--fill-color);\n",
              "    }\n",
              "    40% {\n",
              "      border-color: transparent;\n",
              "      border-right-color: var(--fill-color);\n",
              "      border-top-color: var(--fill-color);\n",
              "    }\n",
              "    60% {\n",
              "      border-color: transparent;\n",
              "      border-right-color: var(--fill-color);\n",
              "    }\n",
              "    80% {\n",
              "      border-color: transparent;\n",
              "      border-right-color: var(--fill-color);\n",
              "      border-bottom-color: var(--fill-color);\n",
              "    }\n",
              "    90% {\n",
              "      border-color: transparent;\n",
              "      border-bottom-color: var(--fill-color);\n",
              "    }\n",
              "  }\n",
              "</style>\n",
              "\n",
              "  <script>\n",
              "    async function quickchart(key) {\n",
              "      const quickchartButtonEl =\n",
              "        document.querySelector('#' + key + ' button');\n",
              "      quickchartButtonEl.disabled = true;  // To prevent multiple clicks.\n",
              "      quickchartButtonEl.classList.add('colab-df-spinner');\n",
              "      try {\n",
              "        const charts = await google.colab.kernel.invokeFunction(\n",
              "            'suggestCharts', [key], {});\n",
              "      } catch (error) {\n",
              "        console.error('Error during call to suggestCharts:', error);\n",
              "      }\n",
              "      quickchartButtonEl.classList.remove('colab-df-spinner');\n",
              "      quickchartButtonEl.classList.add('colab-df-quickchart-complete');\n",
              "    }\n",
              "    (() => {\n",
              "      let quickchartButtonEl =\n",
              "        document.querySelector('#df-9254f2a7-51a0-42a5-978a-69c5e94fc56a button');\n",
              "      quickchartButtonEl.style.display =\n",
              "        google.colab.kernel.accessAllowed ? 'block' : 'none';\n",
              "    })();\n",
              "  </script>\n",
              "</div>\n",
              "\n",
              "    </div>\n",
              "  </div>\n"
            ],
            "text/plain": [
              "   id original_language                                              title  \\\n",
              "0  12                en                                       Finding Nemo   \n",
              "1  16                en                                 Dancer in the Dark   \n",
              "2  17                en                                           The Dark   \n",
              "3  20                en                                 My Life Without Me   \n",
              "4  22                en  Pirates of the Caribbean: The Curse of the Bla...   \n",
              "\n",
              "                                                tags  \n",
              "0  nemo, an adventurous young clownfish, is unexp...  \n",
              "1  selma, a czech immigrant on the verge of blind...  \n",
              "2  in an attempt to pull her family together, adè...  \n",
              "3  a fatally ill mother with only two months to l...  \n",
              "4  jack sparrow, a freewheeling 18th-century pira...  "
            ]
          },
          "execution_count": 215,
          "metadata": {},
          "output_type": "execute_result"
        }
      ],
      "source": [
        "new_df.head()"
      ]
    },
    {
      "cell_type": "code",
      "execution_count": null,
      "metadata": {
        "id": "SdvevNTCcBWH"
      },
      "outputs": [],
      "source": [
        "#natural language processing which will ( [loved, loving ,loves]--->[love,love,love])\n",
        "from nltk.stem.porter import PorterStemmer\n",
        "ps= PorterStemmer()"
      ]
    },
    {
      "cell_type": "code",
      "execution_count": null,
      "metadata": {
        "id": "ULEU0BuAcwqq"
      },
      "outputs": [],
      "source": [
        "#helper function\n",
        "def stem (text):\n",
        "  y=[]\n",
        "\n",
        "  for i in text.split():\n",
        "    y.append(ps.stem(i))\n",
        "\n",
        "  return \" \".join(y)"
      ]
    },
    {
      "cell_type": "code",
      "execution_count": null,
      "metadata": {
        "colab": {
          "base_uri": "https://localhost:8080/"
        },
        "id": "iR7HYn9mdnDC",
        "outputId": "606e3f5a-2ed3-4dc6-ef77-edbe0482f731"
      },
      "outputs": [
        {
          "name": "stderr",
          "output_type": "stream",
          "text": [
            "<ipython-input-218-402dd7cb6b10>:1: SettingWithCopyWarning: \n",
            "A value is trying to be set on a copy of a slice from a DataFrame.\n",
            "Try using .loc[row_indexer,col_indexer] = value instead\n",
            "\n",
            "See the caveats in the documentation: https://pandas.pydata.org/pandas-docs/stable/user_guide/indexing.html#returning-a-view-versus-a-copy\n",
            "  new_df['tags']=new_df['tags'].apply(stem)\n"
          ]
        }
      ],
      "source": [
        "new_df['tags']=new_df['tags'].apply(stem)"
      ]
    },
    {
      "cell_type": "code",
      "execution_count": null,
      "metadata": {
        "colab": {
          "base_uri": "https://localhost:8080/"
        },
        "id": "VCukLl524aJl",
        "outputId": "ee6932c2-6d43-4f10-ab71-39572f0b8d33"
      },
      "outputs": [
        {
          "data": {
            "text/plain": [
              "(89951, 4)"
            ]
          },
          "execution_count": 219,
          "metadata": {},
          "output_type": "execute_result"
        }
      ],
      "source": [
        "new_df.shape"
      ]
    },
    {
      "cell_type": "code",
      "execution_count": null,
      "metadata": {
        "id": "LfBCCLXG6igV"
      },
      "outputs": [],
      "source": [
        "new_df=new_df[new_df['original_language']=='en']"
      ]
    },
    {
      "cell_type": "code",
      "execution_count": null,
      "metadata": {
        "id": "9VYFMVjHp-BP"
      },
      "outputs": [],
      "source": [
        "new_df.to_csv(\"new_df.csv\",index=False)"
      ]
    },
    {
      "cell_type": "markdown",
      "metadata": {
        "id": "AQBe_9I87anh"
      },
      "source": [
        "Rest in part2\n"
      ]
    }
  ],
  "metadata": {
    "colab": {
      "provenance": []
    },
    "kernelspec": {
      "display_name": "Python 3",
      "name": "python3"
    },
    "language_info": {
      "name": "python"
    }
  },
  "nbformat": 4,
  "nbformat_minor": 0
}
